{
  "nbformat": 4,
  "nbformat_minor": 0,
  "metadata": {
    "colab": {
      "name": "Pandas.ipynb",
      "provenance": [],
      "authorship_tag": "ABX9TyOdBLfImHPPQUMl8b1RU0DH",
      "include_colab_link": true
    },
    "kernelspec": {
      "name": "python3",
      "display_name": "Python 3"
    }
  },
  "cells": [
    {
      "cell_type": "markdown",
      "metadata": {
        "id": "view-in-github",
        "colab_type": "text"
      },
      "source": [
        "<a href=\"https://colab.research.google.com/github/Shivamtripathi13/python/blob/main/Pandas.ipynb\" target=\"_parent\"><img src=\"https://colab.research.google.com/assets/colab-badge.svg\" alt=\"Open In Colab\"/></a>"
      ]
    },
    {
      "cell_type": "code",
      "metadata": {
        "id": "gceEHuBs-iZ-"
      },
      "source": [
        "import pandas as pd\n",
        "import numpy as np"
      ],
      "execution_count": 187,
      "outputs": []
    },
    {
      "cell_type": "code",
      "metadata": {
        "id": "UlsNnGhH_l8J",
        "outputId": "a52b0838-a574-4549-f52a-766c883b8d29",
        "colab": {
          "base_uri": "https://localhost:8080/",
          "height": 208
        }
      },
      "source": [
        "s = pd.Series([1,2,3,4,5,6,np.nan,9,8,10])\n",
        "print(s)"
      ],
      "execution_count": 188,
      "outputs": [
        {
          "output_type": "stream",
          "text": [
            "0     1.0\n",
            "1     2.0\n",
            "2     3.0\n",
            "3     4.0\n",
            "4     5.0\n",
            "5     6.0\n",
            "6     NaN\n",
            "7     9.0\n",
            "8     8.0\n",
            "9    10.0\n",
            "dtype: float64\n"
          ],
          "name": "stdout"
        }
      ]
    },
    {
      "cell_type": "code",
      "metadata": {
        "id": "ddeYyPuJAdI6",
        "outputId": "00cdda36-4063-4f5b-a1d0-b2f2b7280822",
        "colab": {
          "base_uri": "https://localhost:8080/",
          "height": 87
        }
      },
      "source": [
        "d = pd.date_range('20200301' , periods=10)\n",
        "print(d)"
      ],
      "execution_count": 189,
      "outputs": [
        {
          "output_type": "stream",
          "text": [
            "DatetimeIndex(['2020-03-01', '2020-03-02', '2020-03-03', '2020-03-04',\n",
            "               '2020-03-05', '2020-03-06', '2020-03-07', '2020-03-08',\n",
            "               '2020-03-09', '2020-03-10'],\n",
            "              dtype='datetime64[ns]', freq='D')\n"
          ],
          "name": "stdout"
        }
      ]
    },
    {
      "cell_type": "code",
      "metadata": {
        "id": "yaY06rUbBhGw",
        "outputId": "8c8266d0-a188-487b-ec62-8695089452ad",
        "colab": {
          "base_uri": "https://localhost:8080/",
          "height": 208
        }
      },
      "source": [
        "df = pd.DataFrame(np.random.randn(10,4), index=d, columns=['A','B','C','D'])\n",
        "print(df)"
      ],
      "execution_count": 190,
      "outputs": [
        {
          "output_type": "stream",
          "text": [
            "                   A         B         C         D\n",
            "2020-03-01  0.625876 -1.779283  0.570485 -1.122515\n",
            "2020-03-02  1.074789 -0.237985 -0.620213  0.505322\n",
            "2020-03-03 -0.534624 -0.683850 -1.479998  0.957364\n",
            "2020-03-04 -0.497201 -0.585051 -0.558555  1.259036\n",
            "2020-03-05  0.632357  1.779869  2.782392 -0.059216\n",
            "2020-03-06 -0.317117 -0.715191  1.193381 -0.080496\n",
            "2020-03-07 -0.655650  0.280189  0.108756 -1.744311\n",
            "2020-03-08  0.479350  1.398915  0.756545 -0.039185\n",
            "2020-03-09  1.093923 -0.507946 -0.825545 -1.141421\n",
            "2020-03-10  0.543511  0.294013 -0.311528  0.143984\n"
          ],
          "name": "stdout"
        }
      ]
    },
    {
      "cell_type": "code",
      "metadata": {
        "id": "0z_alLyLEOWS",
        "outputId": "f771cfc3-6707-4b8e-c67a-9ca00e6b13cd",
        "colab": {
          "base_uri": "https://localhost:8080/",
          "height": 104
        }
      },
      "source": [
        "df1 = pd.DataFrame({ 'A':[1,2,3,4],\n",
        "                  'B':pd.Timestamp('20200301'),\n",
        "                  'C':pd.Series(1, index= list(range(4)),dtype = 'float32'),\n",
        "                  'D':np.array([5]*4 , dtype='int32'),\n",
        "                  'E':pd.Categorical(['True','False','True', ' False']),\n",
        "                  'F': 'Hello'})\n",
        "print(df1)"
      ],
      "execution_count": 191,
      "outputs": [
        {
          "output_type": "stream",
          "text": [
            "   A          B    C  D       E      F\n",
            "0  1 2020-03-01  1.0  5    True  Hello\n",
            "1  2 2020-03-01  1.0  5   False  Hello\n",
            "2  3 2020-03-01  1.0  5    True  Hello\n",
            "3  4 2020-03-01  1.0  5   False  Hello\n"
          ],
          "name": "stdout"
        }
      ]
    },
    {
      "cell_type": "code",
      "metadata": {
        "id": "p-UbDMwCIVTe",
        "outputId": "ed02fa7e-da5c-44e5-dfda-5fa1042acabe",
        "colab": {
          "base_uri": "https://localhost:8080/",
          "height": 139
        }
      },
      "source": [
        "df1.dtypes"
      ],
      "execution_count": 192,
      "outputs": [
        {
          "output_type": "execute_result",
          "data": {
            "text/plain": [
              "A             int64\n",
              "B    datetime64[ns]\n",
              "C           float32\n",
              "D             int32\n",
              "E          category\n",
              "F            object\n",
              "dtype: object"
            ]
          },
          "metadata": {
            "tags": []
          },
          "execution_count": 192
        }
      ]
    },
    {
      "cell_type": "code",
      "metadata": {
        "id": "wCO8EGxTM-j6",
        "outputId": "a6e05671-68ca-419c-8ad9-5111cd428734",
        "colab": {
          "base_uri": "https://localhost:8080/",
          "height": 202
        }
      },
      "source": [
        "df.head()"
      ],
      "execution_count": 193,
      "outputs": [
        {
          "output_type": "execute_result",
          "data": {
            "text/html": [
              "<div>\n",
              "<style scoped>\n",
              "    .dataframe tbody tr th:only-of-type {\n",
              "        vertical-align: middle;\n",
              "    }\n",
              "\n",
              "    .dataframe tbody tr th {\n",
              "        vertical-align: top;\n",
              "    }\n",
              "\n",
              "    .dataframe thead th {\n",
              "        text-align: right;\n",
              "    }\n",
              "</style>\n",
              "<table border=\"1\" class=\"dataframe\">\n",
              "  <thead>\n",
              "    <tr style=\"text-align: right;\">\n",
              "      <th></th>\n",
              "      <th>A</th>\n",
              "      <th>B</th>\n",
              "      <th>C</th>\n",
              "      <th>D</th>\n",
              "    </tr>\n",
              "  </thead>\n",
              "  <tbody>\n",
              "    <tr>\n",
              "      <th>2020-03-01</th>\n",
              "      <td>0.625876</td>\n",
              "      <td>-1.779283</td>\n",
              "      <td>0.570485</td>\n",
              "      <td>-1.122515</td>\n",
              "    </tr>\n",
              "    <tr>\n",
              "      <th>2020-03-02</th>\n",
              "      <td>1.074789</td>\n",
              "      <td>-0.237985</td>\n",
              "      <td>-0.620213</td>\n",
              "      <td>0.505322</td>\n",
              "    </tr>\n",
              "    <tr>\n",
              "      <th>2020-03-03</th>\n",
              "      <td>-0.534624</td>\n",
              "      <td>-0.683850</td>\n",
              "      <td>-1.479998</td>\n",
              "      <td>0.957364</td>\n",
              "    </tr>\n",
              "    <tr>\n",
              "      <th>2020-03-04</th>\n",
              "      <td>-0.497201</td>\n",
              "      <td>-0.585051</td>\n",
              "      <td>-0.558555</td>\n",
              "      <td>1.259036</td>\n",
              "    </tr>\n",
              "    <tr>\n",
              "      <th>2020-03-05</th>\n",
              "      <td>0.632357</td>\n",
              "      <td>1.779869</td>\n",
              "      <td>2.782392</td>\n",
              "      <td>-0.059216</td>\n",
              "    </tr>\n",
              "  </tbody>\n",
              "</table>\n",
              "</div>"
            ],
            "text/plain": [
              "                   A         B         C         D\n",
              "2020-03-01  0.625876 -1.779283  0.570485 -1.122515\n",
              "2020-03-02  1.074789 -0.237985 -0.620213  0.505322\n",
              "2020-03-03 -0.534624 -0.683850 -1.479998  0.957364\n",
              "2020-03-04 -0.497201 -0.585051 -0.558555  1.259036\n",
              "2020-03-05  0.632357  1.779869  2.782392 -0.059216"
            ]
          },
          "metadata": {
            "tags": []
          },
          "execution_count": 193
        }
      ]
    },
    {
      "cell_type": "code",
      "metadata": {
        "id": "18i0sr9xPSSk",
        "outputId": "8b90c687-52d3-4b67-df78-587aebbe7cc0",
        "colab": {
          "base_uri": "https://localhost:8080/",
          "height": 202
        }
      },
      "source": [
        "df.tail()"
      ],
      "execution_count": 194,
      "outputs": [
        {
          "output_type": "execute_result",
          "data": {
            "text/html": [
              "<div>\n",
              "<style scoped>\n",
              "    .dataframe tbody tr th:only-of-type {\n",
              "        vertical-align: middle;\n",
              "    }\n",
              "\n",
              "    .dataframe tbody tr th {\n",
              "        vertical-align: top;\n",
              "    }\n",
              "\n",
              "    .dataframe thead th {\n",
              "        text-align: right;\n",
              "    }\n",
              "</style>\n",
              "<table border=\"1\" class=\"dataframe\">\n",
              "  <thead>\n",
              "    <tr style=\"text-align: right;\">\n",
              "      <th></th>\n",
              "      <th>A</th>\n",
              "      <th>B</th>\n",
              "      <th>C</th>\n",
              "      <th>D</th>\n",
              "    </tr>\n",
              "  </thead>\n",
              "  <tbody>\n",
              "    <tr>\n",
              "      <th>2020-03-06</th>\n",
              "      <td>-0.317117</td>\n",
              "      <td>-0.715191</td>\n",
              "      <td>1.193381</td>\n",
              "      <td>-0.080496</td>\n",
              "    </tr>\n",
              "    <tr>\n",
              "      <th>2020-03-07</th>\n",
              "      <td>-0.655650</td>\n",
              "      <td>0.280189</td>\n",
              "      <td>0.108756</td>\n",
              "      <td>-1.744311</td>\n",
              "    </tr>\n",
              "    <tr>\n",
              "      <th>2020-03-08</th>\n",
              "      <td>0.479350</td>\n",
              "      <td>1.398915</td>\n",
              "      <td>0.756545</td>\n",
              "      <td>-0.039185</td>\n",
              "    </tr>\n",
              "    <tr>\n",
              "      <th>2020-03-09</th>\n",
              "      <td>1.093923</td>\n",
              "      <td>-0.507946</td>\n",
              "      <td>-0.825545</td>\n",
              "      <td>-1.141421</td>\n",
              "    </tr>\n",
              "    <tr>\n",
              "      <th>2020-03-10</th>\n",
              "      <td>0.543511</td>\n",
              "      <td>0.294013</td>\n",
              "      <td>-0.311528</td>\n",
              "      <td>0.143984</td>\n",
              "    </tr>\n",
              "  </tbody>\n",
              "</table>\n",
              "</div>"
            ],
            "text/plain": [
              "                   A         B         C         D\n",
              "2020-03-06 -0.317117 -0.715191  1.193381 -0.080496\n",
              "2020-03-07 -0.655650  0.280189  0.108756 -1.744311\n",
              "2020-03-08  0.479350  1.398915  0.756545 -0.039185\n",
              "2020-03-09  1.093923 -0.507946 -0.825545 -1.141421\n",
              "2020-03-10  0.543511  0.294013 -0.311528  0.143984"
            ]
          },
          "metadata": {
            "tags": []
          },
          "execution_count": 194
        }
      ]
    },
    {
      "cell_type": "code",
      "metadata": {
        "id": "mqqpdgJIPWq_",
        "outputId": "e9db3289-4cad-4fa4-e19e-bb6b6928bb44",
        "colab": {
          "base_uri": "https://localhost:8080/",
          "height": 87
        }
      },
      "source": [
        "df.index"
      ],
      "execution_count": 195,
      "outputs": [
        {
          "output_type": "execute_result",
          "data": {
            "text/plain": [
              "DatetimeIndex(['2020-03-01', '2020-03-02', '2020-03-03', '2020-03-04',\n",
              "               '2020-03-05', '2020-03-06', '2020-03-07', '2020-03-08',\n",
              "               '2020-03-09', '2020-03-10'],\n",
              "              dtype='datetime64[ns]', freq='D')"
            ]
          },
          "metadata": {
            "tags": []
          },
          "execution_count": 195
        }
      ]
    },
    {
      "cell_type": "code",
      "metadata": {
        "id": "BKNkiDigPhqG",
        "outputId": "8af01d7d-4c87-4a49-ddc3-3d391c757a8b",
        "colab": {
          "base_uri": "https://localhost:8080/",
          "height": 35
        }
      },
      "source": [
        "df.columns"
      ],
      "execution_count": 196,
      "outputs": [
        {
          "output_type": "execute_result",
          "data": {
            "text/plain": [
              "Index(['A', 'B', 'C', 'D'], dtype='object')"
            ]
          },
          "metadata": {
            "tags": []
          },
          "execution_count": 196
        }
      ]
    },
    {
      "cell_type": "code",
      "metadata": {
        "id": "tjB6gJKVPkOS",
        "outputId": "0608353e-40da-4bc0-ff43-58007471ca5c",
        "colab": {
          "base_uri": "https://localhost:8080/",
          "height": 191
        }
      },
      "source": [
        "df.to_numpy()"
      ],
      "execution_count": 197,
      "outputs": [
        {
          "output_type": "execute_result",
          "data": {
            "text/plain": [
              "array([[ 0.62587583, -1.77928328,  0.5704852 , -1.12251515],\n",
              "       [ 1.07478886, -0.23798467, -0.62021336,  0.50532155],\n",
              "       [-0.53462391, -0.68384963, -1.47999801,  0.95736433],\n",
              "       [-0.49720092, -0.5850507 , -0.55855533,  1.25903633],\n",
              "       [ 0.63235745,  1.77986918,  2.7823922 , -0.05921599],\n",
              "       [-0.31711704, -0.71519118,  1.19338141, -0.08049587],\n",
              "       [-0.65564965,  0.28018902,  0.10875581, -1.74431134],\n",
              "       [ 0.47935022,  1.39891495,  0.75654463, -0.03918529],\n",
              "       [ 1.09392336, -0.50794578, -0.8255454 , -1.14142135],\n",
              "       [ 0.54351057,  0.29401282, -0.31152837,  0.14398355]])"
            ]
          },
          "metadata": {
            "tags": []
          },
          "execution_count": 197
        }
      ]
    },
    {
      "cell_type": "code",
      "metadata": {
        "id": "Kie-wB79PvZS",
        "outputId": "09f5ef1a-cdf0-4a02-c577-62d13cee3ecd",
        "colab": {
          "base_uri": "https://localhost:8080/",
          "height": 294
        }
      },
      "source": [
        "df.describe()"
      ],
      "execution_count": 198,
      "outputs": [
        {
          "output_type": "execute_result",
          "data": {
            "text/html": [
              "<div>\n",
              "<style scoped>\n",
              "    .dataframe tbody tr th:only-of-type {\n",
              "        vertical-align: middle;\n",
              "    }\n",
              "\n",
              "    .dataframe tbody tr th {\n",
              "        vertical-align: top;\n",
              "    }\n",
              "\n",
              "    .dataframe thead th {\n",
              "        text-align: right;\n",
              "    }\n",
              "</style>\n",
              "<table border=\"1\" class=\"dataframe\">\n",
              "  <thead>\n",
              "    <tr style=\"text-align: right;\">\n",
              "      <th></th>\n",
              "      <th>A</th>\n",
              "      <th>B</th>\n",
              "      <th>C</th>\n",
              "      <th>D</th>\n",
              "    </tr>\n",
              "  </thead>\n",
              "  <tbody>\n",
              "    <tr>\n",
              "      <th>count</th>\n",
              "      <td>10.000000</td>\n",
              "      <td>10.000000</td>\n",
              "      <td>10.000000</td>\n",
              "      <td>10.000000</td>\n",
              "    </tr>\n",
              "    <tr>\n",
              "      <th>mean</th>\n",
              "      <td>0.244521</td>\n",
              "      <td>-0.075632</td>\n",
              "      <td>0.161572</td>\n",
              "      <td>-0.132144</td>\n",
              "    </tr>\n",
              "    <tr>\n",
              "      <th>std</th>\n",
              "      <td>0.677756</td>\n",
              "      <td>1.055913</td>\n",
              "      <td>1.223840</td>\n",
              "      <td>0.955697</td>\n",
              "    </tr>\n",
              "    <tr>\n",
              "      <th>min</th>\n",
              "      <td>-0.655650</td>\n",
              "      <td>-1.779283</td>\n",
              "      <td>-1.479998</td>\n",
              "      <td>-1.744311</td>\n",
              "    </tr>\n",
              "    <tr>\n",
              "      <th>25%</th>\n",
              "      <td>-0.452180</td>\n",
              "      <td>-0.659150</td>\n",
              "      <td>-0.604799</td>\n",
              "      <td>-0.862010</td>\n",
              "    </tr>\n",
              "    <tr>\n",
              "      <th>50%</th>\n",
              "      <td>0.511430</td>\n",
              "      <td>-0.372965</td>\n",
              "      <td>-0.101386</td>\n",
              "      <td>-0.049201</td>\n",
              "    </tr>\n",
              "    <tr>\n",
              "      <th>75%</th>\n",
              "      <td>0.630737</td>\n",
              "      <td>0.290557</td>\n",
              "      <td>0.710030</td>\n",
              "      <td>0.414987</td>\n",
              "    </tr>\n",
              "    <tr>\n",
              "      <th>max</th>\n",
              "      <td>1.093923</td>\n",
              "      <td>1.779869</td>\n",
              "      <td>2.782392</td>\n",
              "      <td>1.259036</td>\n",
              "    </tr>\n",
              "  </tbody>\n",
              "</table>\n",
              "</div>"
            ],
            "text/plain": [
              "               A          B          C          D\n",
              "count  10.000000  10.000000  10.000000  10.000000\n",
              "mean    0.244521  -0.075632   0.161572  -0.132144\n",
              "std     0.677756   1.055913   1.223840   0.955697\n",
              "min    -0.655650  -1.779283  -1.479998  -1.744311\n",
              "25%    -0.452180  -0.659150  -0.604799  -0.862010\n",
              "50%     0.511430  -0.372965  -0.101386  -0.049201\n",
              "75%     0.630737   0.290557   0.710030   0.414987\n",
              "max     1.093923   1.779869   2.782392   1.259036"
            ]
          },
          "metadata": {
            "tags": []
          },
          "execution_count": 198
        }
      ]
    },
    {
      "cell_type": "code",
      "metadata": {
        "id": "Qz_ZEnXEP6hT",
        "outputId": "ab78ab04-9628-4424-c50a-eeb4f356ac9e",
        "colab": {
          "base_uri": "https://localhost:8080/",
          "height": 355
        }
      },
      "source": [
        "df.sort_index(axis=1 , ascending=False)"
      ],
      "execution_count": 199,
      "outputs": [
        {
          "output_type": "execute_result",
          "data": {
            "text/html": [
              "<div>\n",
              "<style scoped>\n",
              "    .dataframe tbody tr th:only-of-type {\n",
              "        vertical-align: middle;\n",
              "    }\n",
              "\n",
              "    .dataframe tbody tr th {\n",
              "        vertical-align: top;\n",
              "    }\n",
              "\n",
              "    .dataframe thead th {\n",
              "        text-align: right;\n",
              "    }\n",
              "</style>\n",
              "<table border=\"1\" class=\"dataframe\">\n",
              "  <thead>\n",
              "    <tr style=\"text-align: right;\">\n",
              "      <th></th>\n",
              "      <th>D</th>\n",
              "      <th>C</th>\n",
              "      <th>B</th>\n",
              "      <th>A</th>\n",
              "    </tr>\n",
              "  </thead>\n",
              "  <tbody>\n",
              "    <tr>\n",
              "      <th>2020-03-01</th>\n",
              "      <td>-1.122515</td>\n",
              "      <td>0.570485</td>\n",
              "      <td>-1.779283</td>\n",
              "      <td>0.625876</td>\n",
              "    </tr>\n",
              "    <tr>\n",
              "      <th>2020-03-02</th>\n",
              "      <td>0.505322</td>\n",
              "      <td>-0.620213</td>\n",
              "      <td>-0.237985</td>\n",
              "      <td>1.074789</td>\n",
              "    </tr>\n",
              "    <tr>\n",
              "      <th>2020-03-03</th>\n",
              "      <td>0.957364</td>\n",
              "      <td>-1.479998</td>\n",
              "      <td>-0.683850</td>\n",
              "      <td>-0.534624</td>\n",
              "    </tr>\n",
              "    <tr>\n",
              "      <th>2020-03-04</th>\n",
              "      <td>1.259036</td>\n",
              "      <td>-0.558555</td>\n",
              "      <td>-0.585051</td>\n",
              "      <td>-0.497201</td>\n",
              "    </tr>\n",
              "    <tr>\n",
              "      <th>2020-03-05</th>\n",
              "      <td>-0.059216</td>\n",
              "      <td>2.782392</td>\n",
              "      <td>1.779869</td>\n",
              "      <td>0.632357</td>\n",
              "    </tr>\n",
              "    <tr>\n",
              "      <th>2020-03-06</th>\n",
              "      <td>-0.080496</td>\n",
              "      <td>1.193381</td>\n",
              "      <td>-0.715191</td>\n",
              "      <td>-0.317117</td>\n",
              "    </tr>\n",
              "    <tr>\n",
              "      <th>2020-03-07</th>\n",
              "      <td>-1.744311</td>\n",
              "      <td>0.108756</td>\n",
              "      <td>0.280189</td>\n",
              "      <td>-0.655650</td>\n",
              "    </tr>\n",
              "    <tr>\n",
              "      <th>2020-03-08</th>\n",
              "      <td>-0.039185</td>\n",
              "      <td>0.756545</td>\n",
              "      <td>1.398915</td>\n",
              "      <td>0.479350</td>\n",
              "    </tr>\n",
              "    <tr>\n",
              "      <th>2020-03-09</th>\n",
              "      <td>-1.141421</td>\n",
              "      <td>-0.825545</td>\n",
              "      <td>-0.507946</td>\n",
              "      <td>1.093923</td>\n",
              "    </tr>\n",
              "    <tr>\n",
              "      <th>2020-03-10</th>\n",
              "      <td>0.143984</td>\n",
              "      <td>-0.311528</td>\n",
              "      <td>0.294013</td>\n",
              "      <td>0.543511</td>\n",
              "    </tr>\n",
              "  </tbody>\n",
              "</table>\n",
              "</div>"
            ],
            "text/plain": [
              "                   D         C         B         A\n",
              "2020-03-01 -1.122515  0.570485 -1.779283  0.625876\n",
              "2020-03-02  0.505322 -0.620213 -0.237985  1.074789\n",
              "2020-03-03  0.957364 -1.479998 -0.683850 -0.534624\n",
              "2020-03-04  1.259036 -0.558555 -0.585051 -0.497201\n",
              "2020-03-05 -0.059216  2.782392  1.779869  0.632357\n",
              "2020-03-06 -0.080496  1.193381 -0.715191 -0.317117\n",
              "2020-03-07 -1.744311  0.108756  0.280189 -0.655650\n",
              "2020-03-08 -0.039185  0.756545  1.398915  0.479350\n",
              "2020-03-09 -1.141421 -0.825545 -0.507946  1.093923\n",
              "2020-03-10  0.143984 -0.311528  0.294013  0.543511"
            ]
          },
          "metadata": {
            "tags": []
          },
          "execution_count": 199
        }
      ]
    },
    {
      "cell_type": "code",
      "metadata": {
        "id": "8uvGTE5CSEpA",
        "outputId": "d4382bd6-b112-4b26-b0aa-5d75fc62fc0c",
        "colab": {
          "base_uri": "https://localhost:8080/",
          "height": 171
        }
      },
      "source": [
        "df1.sort_index(axis=1 , ascending=False)"
      ],
      "execution_count": 200,
      "outputs": [
        {
          "output_type": "execute_result",
          "data": {
            "text/html": [
              "<div>\n",
              "<style scoped>\n",
              "    .dataframe tbody tr th:only-of-type {\n",
              "        vertical-align: middle;\n",
              "    }\n",
              "\n",
              "    .dataframe tbody tr th {\n",
              "        vertical-align: top;\n",
              "    }\n",
              "\n",
              "    .dataframe thead th {\n",
              "        text-align: right;\n",
              "    }\n",
              "</style>\n",
              "<table border=\"1\" class=\"dataframe\">\n",
              "  <thead>\n",
              "    <tr style=\"text-align: right;\">\n",
              "      <th></th>\n",
              "      <th>F</th>\n",
              "      <th>E</th>\n",
              "      <th>D</th>\n",
              "      <th>C</th>\n",
              "      <th>B</th>\n",
              "      <th>A</th>\n",
              "    </tr>\n",
              "  </thead>\n",
              "  <tbody>\n",
              "    <tr>\n",
              "      <th>0</th>\n",
              "      <td>Hello</td>\n",
              "      <td>True</td>\n",
              "      <td>5</td>\n",
              "      <td>1.0</td>\n",
              "      <td>2020-03-01</td>\n",
              "      <td>1</td>\n",
              "    </tr>\n",
              "    <tr>\n",
              "      <th>1</th>\n",
              "      <td>Hello</td>\n",
              "      <td>False</td>\n",
              "      <td>5</td>\n",
              "      <td>1.0</td>\n",
              "      <td>2020-03-01</td>\n",
              "      <td>2</td>\n",
              "    </tr>\n",
              "    <tr>\n",
              "      <th>2</th>\n",
              "      <td>Hello</td>\n",
              "      <td>True</td>\n",
              "      <td>5</td>\n",
              "      <td>1.0</td>\n",
              "      <td>2020-03-01</td>\n",
              "      <td>3</td>\n",
              "    </tr>\n",
              "    <tr>\n",
              "      <th>3</th>\n",
              "      <td>Hello</td>\n",
              "      <td>False</td>\n",
              "      <td>5</td>\n",
              "      <td>1.0</td>\n",
              "      <td>2020-03-01</td>\n",
              "      <td>4</td>\n",
              "    </tr>\n",
              "  </tbody>\n",
              "</table>\n",
              "</div>"
            ],
            "text/plain": [
              "       F       E  D    C          B  A\n",
              "0  Hello    True  5  1.0 2020-03-01  1\n",
              "1  Hello   False  5  1.0 2020-03-01  2\n",
              "2  Hello    True  5  1.0 2020-03-01  3\n",
              "3  Hello   False  5  1.0 2020-03-01  4"
            ]
          },
          "metadata": {
            "tags": []
          },
          "execution_count": 200
        }
      ]
    },
    {
      "cell_type": "code",
      "metadata": {
        "id": "KrrMu3ZySNhe",
        "outputId": "88ee35c7-3e1b-4b65-abba-069599d2ade4",
        "colab": {
          "base_uri": "https://localhost:8080/",
          "height": 355
        }
      },
      "source": [
        "df.sort_values(by='D')"
      ],
      "execution_count": 201,
      "outputs": [
        {
          "output_type": "execute_result",
          "data": {
            "text/html": [
              "<div>\n",
              "<style scoped>\n",
              "    .dataframe tbody tr th:only-of-type {\n",
              "        vertical-align: middle;\n",
              "    }\n",
              "\n",
              "    .dataframe tbody tr th {\n",
              "        vertical-align: top;\n",
              "    }\n",
              "\n",
              "    .dataframe thead th {\n",
              "        text-align: right;\n",
              "    }\n",
              "</style>\n",
              "<table border=\"1\" class=\"dataframe\">\n",
              "  <thead>\n",
              "    <tr style=\"text-align: right;\">\n",
              "      <th></th>\n",
              "      <th>A</th>\n",
              "      <th>B</th>\n",
              "      <th>C</th>\n",
              "      <th>D</th>\n",
              "    </tr>\n",
              "  </thead>\n",
              "  <tbody>\n",
              "    <tr>\n",
              "      <th>2020-03-07</th>\n",
              "      <td>-0.655650</td>\n",
              "      <td>0.280189</td>\n",
              "      <td>0.108756</td>\n",
              "      <td>-1.744311</td>\n",
              "    </tr>\n",
              "    <tr>\n",
              "      <th>2020-03-09</th>\n",
              "      <td>1.093923</td>\n",
              "      <td>-0.507946</td>\n",
              "      <td>-0.825545</td>\n",
              "      <td>-1.141421</td>\n",
              "    </tr>\n",
              "    <tr>\n",
              "      <th>2020-03-01</th>\n",
              "      <td>0.625876</td>\n",
              "      <td>-1.779283</td>\n",
              "      <td>0.570485</td>\n",
              "      <td>-1.122515</td>\n",
              "    </tr>\n",
              "    <tr>\n",
              "      <th>2020-03-06</th>\n",
              "      <td>-0.317117</td>\n",
              "      <td>-0.715191</td>\n",
              "      <td>1.193381</td>\n",
              "      <td>-0.080496</td>\n",
              "    </tr>\n",
              "    <tr>\n",
              "      <th>2020-03-05</th>\n",
              "      <td>0.632357</td>\n",
              "      <td>1.779869</td>\n",
              "      <td>2.782392</td>\n",
              "      <td>-0.059216</td>\n",
              "    </tr>\n",
              "    <tr>\n",
              "      <th>2020-03-08</th>\n",
              "      <td>0.479350</td>\n",
              "      <td>1.398915</td>\n",
              "      <td>0.756545</td>\n",
              "      <td>-0.039185</td>\n",
              "    </tr>\n",
              "    <tr>\n",
              "      <th>2020-03-10</th>\n",
              "      <td>0.543511</td>\n",
              "      <td>0.294013</td>\n",
              "      <td>-0.311528</td>\n",
              "      <td>0.143984</td>\n",
              "    </tr>\n",
              "    <tr>\n",
              "      <th>2020-03-02</th>\n",
              "      <td>1.074789</td>\n",
              "      <td>-0.237985</td>\n",
              "      <td>-0.620213</td>\n",
              "      <td>0.505322</td>\n",
              "    </tr>\n",
              "    <tr>\n",
              "      <th>2020-03-03</th>\n",
              "      <td>-0.534624</td>\n",
              "      <td>-0.683850</td>\n",
              "      <td>-1.479998</td>\n",
              "      <td>0.957364</td>\n",
              "    </tr>\n",
              "    <tr>\n",
              "      <th>2020-03-04</th>\n",
              "      <td>-0.497201</td>\n",
              "      <td>-0.585051</td>\n",
              "      <td>-0.558555</td>\n",
              "      <td>1.259036</td>\n",
              "    </tr>\n",
              "  </tbody>\n",
              "</table>\n",
              "</div>"
            ],
            "text/plain": [
              "                   A         B         C         D\n",
              "2020-03-07 -0.655650  0.280189  0.108756 -1.744311\n",
              "2020-03-09  1.093923 -0.507946 -0.825545 -1.141421\n",
              "2020-03-01  0.625876 -1.779283  0.570485 -1.122515\n",
              "2020-03-06 -0.317117 -0.715191  1.193381 -0.080496\n",
              "2020-03-05  0.632357  1.779869  2.782392 -0.059216\n",
              "2020-03-08  0.479350  1.398915  0.756545 -0.039185\n",
              "2020-03-10  0.543511  0.294013 -0.311528  0.143984\n",
              "2020-03-02  1.074789 -0.237985 -0.620213  0.505322\n",
              "2020-03-03 -0.534624 -0.683850 -1.479998  0.957364\n",
              "2020-03-04 -0.497201 -0.585051 -0.558555  1.259036"
            ]
          },
          "metadata": {
            "tags": []
          },
          "execution_count": 201
        }
      ]
    },
    {
      "cell_type": "code",
      "metadata": {
        "id": "pVeSMlGdSwD9",
        "outputId": "54d8d403-aba6-4d48-df3c-7c1e0effc551",
        "colab": {
          "base_uri": "https://localhost:8080/",
          "height": 208
        }
      },
      "source": [
        "df['D']"
      ],
      "execution_count": 202,
      "outputs": [
        {
          "output_type": "execute_result",
          "data": {
            "text/plain": [
              "2020-03-01   -1.122515\n",
              "2020-03-02    0.505322\n",
              "2020-03-03    0.957364\n",
              "2020-03-04    1.259036\n",
              "2020-03-05   -0.059216\n",
              "2020-03-06   -0.080496\n",
              "2020-03-07   -1.744311\n",
              "2020-03-08   -0.039185\n",
              "2020-03-09   -1.141421\n",
              "2020-03-10    0.143984\n",
              "Freq: D, Name: D, dtype: float64"
            ]
          },
          "metadata": {
            "tags": []
          },
          "execution_count": 202
        }
      ]
    },
    {
      "cell_type": "code",
      "metadata": {
        "id": "ruTai5HAS0-m",
        "outputId": "62158713-fe1f-4f31-bb26-b0a18f4a134e",
        "colab": {
          "base_uri": "https://localhost:8080/",
          "height": 202
        }
      },
      "source": [
        "df[0:5]"
      ],
      "execution_count": 203,
      "outputs": [
        {
          "output_type": "execute_result",
          "data": {
            "text/html": [
              "<div>\n",
              "<style scoped>\n",
              "    .dataframe tbody tr th:only-of-type {\n",
              "        vertical-align: middle;\n",
              "    }\n",
              "\n",
              "    .dataframe tbody tr th {\n",
              "        vertical-align: top;\n",
              "    }\n",
              "\n",
              "    .dataframe thead th {\n",
              "        text-align: right;\n",
              "    }\n",
              "</style>\n",
              "<table border=\"1\" class=\"dataframe\">\n",
              "  <thead>\n",
              "    <tr style=\"text-align: right;\">\n",
              "      <th></th>\n",
              "      <th>A</th>\n",
              "      <th>B</th>\n",
              "      <th>C</th>\n",
              "      <th>D</th>\n",
              "    </tr>\n",
              "  </thead>\n",
              "  <tbody>\n",
              "    <tr>\n",
              "      <th>2020-03-01</th>\n",
              "      <td>0.625876</td>\n",
              "      <td>-1.779283</td>\n",
              "      <td>0.570485</td>\n",
              "      <td>-1.122515</td>\n",
              "    </tr>\n",
              "    <tr>\n",
              "      <th>2020-03-02</th>\n",
              "      <td>1.074789</td>\n",
              "      <td>-0.237985</td>\n",
              "      <td>-0.620213</td>\n",
              "      <td>0.505322</td>\n",
              "    </tr>\n",
              "    <tr>\n",
              "      <th>2020-03-03</th>\n",
              "      <td>-0.534624</td>\n",
              "      <td>-0.683850</td>\n",
              "      <td>-1.479998</td>\n",
              "      <td>0.957364</td>\n",
              "    </tr>\n",
              "    <tr>\n",
              "      <th>2020-03-04</th>\n",
              "      <td>-0.497201</td>\n",
              "      <td>-0.585051</td>\n",
              "      <td>-0.558555</td>\n",
              "      <td>1.259036</td>\n",
              "    </tr>\n",
              "    <tr>\n",
              "      <th>2020-03-05</th>\n",
              "      <td>0.632357</td>\n",
              "      <td>1.779869</td>\n",
              "      <td>2.782392</td>\n",
              "      <td>-0.059216</td>\n",
              "    </tr>\n",
              "  </tbody>\n",
              "</table>\n",
              "</div>"
            ],
            "text/plain": [
              "                   A         B         C         D\n",
              "2020-03-01  0.625876 -1.779283  0.570485 -1.122515\n",
              "2020-03-02  1.074789 -0.237985 -0.620213  0.505322\n",
              "2020-03-03 -0.534624 -0.683850 -1.479998  0.957364\n",
              "2020-03-04 -0.497201 -0.585051 -0.558555  1.259036\n",
              "2020-03-05  0.632357  1.779869  2.782392 -0.059216"
            ]
          },
          "metadata": {
            "tags": []
          },
          "execution_count": 203
        }
      ]
    },
    {
      "cell_type": "code",
      "metadata": {
        "id": "mxEJM_rMTBk5",
        "outputId": "c4a9b960-c061-4db1-fd73-b24b41a0c6fd",
        "colab": {
          "base_uri": "https://localhost:8080/",
          "height": 104
        }
      },
      "source": [
        "df.loc[d[0]]"
      ],
      "execution_count": 204,
      "outputs": [
        {
          "output_type": "execute_result",
          "data": {
            "text/plain": [
              "A    0.625876\n",
              "B   -1.779283\n",
              "C    0.570485\n",
              "D   -1.122515\n",
              "Name: 2020-03-01 00:00:00, dtype: float64"
            ]
          },
          "metadata": {
            "tags": []
          },
          "execution_count": 204
        }
      ]
    },
    {
      "cell_type": "code",
      "metadata": {
        "id": "8u6Mxw7DUQo3",
        "outputId": "99e9c445-bc2f-469a-8d38-b686f61a64c4",
        "colab": {
          "base_uri": "https://localhost:8080/",
          "height": 355
        }
      },
      "source": [
        "df.loc[:,['A','C']]"
      ],
      "execution_count": 205,
      "outputs": [
        {
          "output_type": "execute_result",
          "data": {
            "text/html": [
              "<div>\n",
              "<style scoped>\n",
              "    .dataframe tbody tr th:only-of-type {\n",
              "        vertical-align: middle;\n",
              "    }\n",
              "\n",
              "    .dataframe tbody tr th {\n",
              "        vertical-align: top;\n",
              "    }\n",
              "\n",
              "    .dataframe thead th {\n",
              "        text-align: right;\n",
              "    }\n",
              "</style>\n",
              "<table border=\"1\" class=\"dataframe\">\n",
              "  <thead>\n",
              "    <tr style=\"text-align: right;\">\n",
              "      <th></th>\n",
              "      <th>A</th>\n",
              "      <th>C</th>\n",
              "    </tr>\n",
              "  </thead>\n",
              "  <tbody>\n",
              "    <tr>\n",
              "      <th>2020-03-01</th>\n",
              "      <td>0.625876</td>\n",
              "      <td>0.570485</td>\n",
              "    </tr>\n",
              "    <tr>\n",
              "      <th>2020-03-02</th>\n",
              "      <td>1.074789</td>\n",
              "      <td>-0.620213</td>\n",
              "    </tr>\n",
              "    <tr>\n",
              "      <th>2020-03-03</th>\n",
              "      <td>-0.534624</td>\n",
              "      <td>-1.479998</td>\n",
              "    </tr>\n",
              "    <tr>\n",
              "      <th>2020-03-04</th>\n",
              "      <td>-0.497201</td>\n",
              "      <td>-0.558555</td>\n",
              "    </tr>\n",
              "    <tr>\n",
              "      <th>2020-03-05</th>\n",
              "      <td>0.632357</td>\n",
              "      <td>2.782392</td>\n",
              "    </tr>\n",
              "    <tr>\n",
              "      <th>2020-03-06</th>\n",
              "      <td>-0.317117</td>\n",
              "      <td>1.193381</td>\n",
              "    </tr>\n",
              "    <tr>\n",
              "      <th>2020-03-07</th>\n",
              "      <td>-0.655650</td>\n",
              "      <td>0.108756</td>\n",
              "    </tr>\n",
              "    <tr>\n",
              "      <th>2020-03-08</th>\n",
              "      <td>0.479350</td>\n",
              "      <td>0.756545</td>\n",
              "    </tr>\n",
              "    <tr>\n",
              "      <th>2020-03-09</th>\n",
              "      <td>1.093923</td>\n",
              "      <td>-0.825545</td>\n",
              "    </tr>\n",
              "    <tr>\n",
              "      <th>2020-03-10</th>\n",
              "      <td>0.543511</td>\n",
              "      <td>-0.311528</td>\n",
              "    </tr>\n",
              "  </tbody>\n",
              "</table>\n",
              "</div>"
            ],
            "text/plain": [
              "                   A         C\n",
              "2020-03-01  0.625876  0.570485\n",
              "2020-03-02  1.074789 -0.620213\n",
              "2020-03-03 -0.534624 -1.479998\n",
              "2020-03-04 -0.497201 -0.558555\n",
              "2020-03-05  0.632357  2.782392\n",
              "2020-03-06 -0.317117  1.193381\n",
              "2020-03-07 -0.655650  0.108756\n",
              "2020-03-08  0.479350  0.756545\n",
              "2020-03-09  1.093923 -0.825545\n",
              "2020-03-10  0.543511 -0.311528"
            ]
          },
          "metadata": {
            "tags": []
          },
          "execution_count": 205
        }
      ]
    },
    {
      "cell_type": "code",
      "metadata": {
        "id": "QrAq7rJ2V5D6",
        "outputId": "9743601c-e890-425d-a303-5ab8202547e8",
        "colab": {
          "base_uri": "https://localhost:8080/",
          "height": 79
        }
      },
      "source": [
        "df.loc['20200310':,['A','C']]"
      ],
      "execution_count": 206,
      "outputs": [
        {
          "output_type": "execute_result",
          "data": {
            "text/html": [
              "<div>\n",
              "<style scoped>\n",
              "    .dataframe tbody tr th:only-of-type {\n",
              "        vertical-align: middle;\n",
              "    }\n",
              "\n",
              "    .dataframe tbody tr th {\n",
              "        vertical-align: top;\n",
              "    }\n",
              "\n",
              "    .dataframe thead th {\n",
              "        text-align: right;\n",
              "    }\n",
              "</style>\n",
              "<table border=\"1\" class=\"dataframe\">\n",
              "  <thead>\n",
              "    <tr style=\"text-align: right;\">\n",
              "      <th></th>\n",
              "      <th>A</th>\n",
              "      <th>C</th>\n",
              "    </tr>\n",
              "  </thead>\n",
              "  <tbody>\n",
              "    <tr>\n",
              "      <th>2020-03-10</th>\n",
              "      <td>0.543511</td>\n",
              "      <td>-0.311528</td>\n",
              "    </tr>\n",
              "  </tbody>\n",
              "</table>\n",
              "</div>"
            ],
            "text/plain": [
              "                   A         C\n",
              "2020-03-10  0.543511 -0.311528"
            ]
          },
          "metadata": {
            "tags": []
          },
          "execution_count": 206
        }
      ]
    },
    {
      "cell_type": "code",
      "metadata": {
        "id": "oCJOIaByYxbB",
        "outputId": "e37dde62-d747-4348-904c-c26c00fa9aa5",
        "colab": {
          "base_uri": "https://localhost:8080/",
          "height": 79
        }
      },
      "source": [
        "df.iloc[4:5]"
      ],
      "execution_count": 207,
      "outputs": [
        {
          "output_type": "execute_result",
          "data": {
            "text/html": [
              "<div>\n",
              "<style scoped>\n",
              "    .dataframe tbody tr th:only-of-type {\n",
              "        vertical-align: middle;\n",
              "    }\n",
              "\n",
              "    .dataframe tbody tr th {\n",
              "        vertical-align: top;\n",
              "    }\n",
              "\n",
              "    .dataframe thead th {\n",
              "        text-align: right;\n",
              "    }\n",
              "</style>\n",
              "<table border=\"1\" class=\"dataframe\">\n",
              "  <thead>\n",
              "    <tr style=\"text-align: right;\">\n",
              "      <th></th>\n",
              "      <th>A</th>\n",
              "      <th>B</th>\n",
              "      <th>C</th>\n",
              "      <th>D</th>\n",
              "    </tr>\n",
              "  </thead>\n",
              "  <tbody>\n",
              "    <tr>\n",
              "      <th>2020-03-05</th>\n",
              "      <td>0.632357</td>\n",
              "      <td>1.779869</td>\n",
              "      <td>2.782392</td>\n",
              "      <td>-0.059216</td>\n",
              "    </tr>\n",
              "  </tbody>\n",
              "</table>\n",
              "</div>"
            ],
            "text/plain": [
              "                   A         B         C         D\n",
              "2020-03-05  0.632357  1.779869  2.782392 -0.059216"
            ]
          },
          "metadata": {
            "tags": []
          },
          "execution_count": 207
        }
      ]
    },
    {
      "cell_type": "code",
      "metadata": {
        "id": "uCJoqselZ317",
        "outputId": "663d283f-aea9-4151-80d8-6d3c1754a0b3",
        "colab": {
          "base_uri": "https://localhost:8080/",
          "height": 49
        }
      },
      "source": [
        "df[df['A']> 2]"
      ],
      "execution_count": 208,
      "outputs": [
        {
          "output_type": "execute_result",
          "data": {
            "text/html": [
              "<div>\n",
              "<style scoped>\n",
              "    .dataframe tbody tr th:only-of-type {\n",
              "        vertical-align: middle;\n",
              "    }\n",
              "\n",
              "    .dataframe tbody tr th {\n",
              "        vertical-align: top;\n",
              "    }\n",
              "\n",
              "    .dataframe thead th {\n",
              "        text-align: right;\n",
              "    }\n",
              "</style>\n",
              "<table border=\"1\" class=\"dataframe\">\n",
              "  <thead>\n",
              "    <tr style=\"text-align: right;\">\n",
              "      <th></th>\n",
              "      <th>A</th>\n",
              "      <th>B</th>\n",
              "      <th>C</th>\n",
              "      <th>D</th>\n",
              "    </tr>\n",
              "  </thead>\n",
              "  <tbody>\n",
              "  </tbody>\n",
              "</table>\n",
              "</div>"
            ],
            "text/plain": [
              "Empty DataFrame\n",
              "Columns: [A, B, C, D]\n",
              "Index: []"
            ]
          },
          "metadata": {
            "tags": []
          },
          "execution_count": 208
        }
      ]
    },
    {
      "cell_type": "code",
      "metadata": {
        "id": "JdT5_TCHaLm1",
        "outputId": "8c990cc2-b1a8-4c04-a748-2eaa18417d97",
        "colab": {
          "base_uri": "https://localhost:8080/",
          "height": 104
        }
      },
      "source": [
        "df2 = df.reindex(index=d[0:4], columns=list(df.columns) + ['E'])\n",
        "df2.loc[d[0]:d[1] , 'E'] = 1\n",
        "print(df2)"
      ],
      "execution_count": 209,
      "outputs": [
        {
          "output_type": "stream",
          "text": [
            "                   A         B         C         D    E\n",
            "2020-03-01  0.625876 -1.779283  0.570485 -1.122515  1.0\n",
            "2020-03-02  1.074789 -0.237985 -0.620213  0.505322  1.0\n",
            "2020-03-03 -0.534624 -0.683850 -1.479998  0.957364  NaN\n",
            "2020-03-04 -0.497201 -0.585051 -0.558555  1.259036  NaN\n"
          ],
          "name": "stdout"
        }
      ]
    },
    {
      "cell_type": "code",
      "metadata": {
        "id": "0NP8ZMRc2SfG",
        "outputId": "f4315f21-968e-4f49-f4af-eb3a7b1f224e",
        "colab": {
          "base_uri": "https://localhost:8080/",
          "height": 171
        }
      },
      "source": [
        "df2.isnull()"
      ],
      "execution_count": 210,
      "outputs": [
        {
          "output_type": "execute_result",
          "data": {
            "text/html": [
              "<div>\n",
              "<style scoped>\n",
              "    .dataframe tbody tr th:only-of-type {\n",
              "        vertical-align: middle;\n",
              "    }\n",
              "\n",
              "    .dataframe tbody tr th {\n",
              "        vertical-align: top;\n",
              "    }\n",
              "\n",
              "    .dataframe thead th {\n",
              "        text-align: right;\n",
              "    }\n",
              "</style>\n",
              "<table border=\"1\" class=\"dataframe\">\n",
              "  <thead>\n",
              "    <tr style=\"text-align: right;\">\n",
              "      <th></th>\n",
              "      <th>A</th>\n",
              "      <th>B</th>\n",
              "      <th>C</th>\n",
              "      <th>D</th>\n",
              "      <th>E</th>\n",
              "    </tr>\n",
              "  </thead>\n",
              "  <tbody>\n",
              "    <tr>\n",
              "      <th>2020-03-01</th>\n",
              "      <td>False</td>\n",
              "      <td>False</td>\n",
              "      <td>False</td>\n",
              "      <td>False</td>\n",
              "      <td>False</td>\n",
              "    </tr>\n",
              "    <tr>\n",
              "      <th>2020-03-02</th>\n",
              "      <td>False</td>\n",
              "      <td>False</td>\n",
              "      <td>False</td>\n",
              "      <td>False</td>\n",
              "      <td>False</td>\n",
              "    </tr>\n",
              "    <tr>\n",
              "      <th>2020-03-03</th>\n",
              "      <td>False</td>\n",
              "      <td>False</td>\n",
              "      <td>False</td>\n",
              "      <td>False</td>\n",
              "      <td>True</td>\n",
              "    </tr>\n",
              "    <tr>\n",
              "      <th>2020-03-04</th>\n",
              "      <td>False</td>\n",
              "      <td>False</td>\n",
              "      <td>False</td>\n",
              "      <td>False</td>\n",
              "      <td>True</td>\n",
              "    </tr>\n",
              "  </tbody>\n",
              "</table>\n",
              "</div>"
            ],
            "text/plain": [
              "                A      B      C      D      E\n",
              "2020-03-01  False  False  False  False  False\n",
              "2020-03-02  False  False  False  False  False\n",
              "2020-03-03  False  False  False  False   True\n",
              "2020-03-04  False  False  False  False   True"
            ]
          },
          "metadata": {
            "tags": []
          },
          "execution_count": 210
        }
      ]
    },
    {
      "cell_type": "code",
      "metadata": {
        "id": "NWSvkOs22df9",
        "outputId": "dbf0746b-8b50-4c34-a153-3d0ca1e591a1",
        "colab": {
          "base_uri": "https://localhost:8080/",
          "height": 121
        }
      },
      "source": [
        "df2.isnull().count()"
      ],
      "execution_count": 211,
      "outputs": [
        {
          "output_type": "execute_result",
          "data": {
            "text/plain": [
              "A    4\n",
              "B    4\n",
              "C    4\n",
              "D    4\n",
              "E    4\n",
              "dtype: int64"
            ]
          },
          "metadata": {
            "tags": []
          },
          "execution_count": 211
        }
      ]
    },
    {
      "cell_type": "code",
      "metadata": {
        "id": "Uyutpra_2syX",
        "outputId": "ac79090e-8d35-4623-8671-6e5f5ab39a43",
        "colab": {
          "base_uri": "https://localhost:8080/",
          "height": 110
        }
      },
      "source": [
        "df2.dropna()"
      ],
      "execution_count": 212,
      "outputs": [
        {
          "output_type": "execute_result",
          "data": {
            "text/html": [
              "<div>\n",
              "<style scoped>\n",
              "    .dataframe tbody tr th:only-of-type {\n",
              "        vertical-align: middle;\n",
              "    }\n",
              "\n",
              "    .dataframe tbody tr th {\n",
              "        vertical-align: top;\n",
              "    }\n",
              "\n",
              "    .dataframe thead th {\n",
              "        text-align: right;\n",
              "    }\n",
              "</style>\n",
              "<table border=\"1\" class=\"dataframe\">\n",
              "  <thead>\n",
              "    <tr style=\"text-align: right;\">\n",
              "      <th></th>\n",
              "      <th>A</th>\n",
              "      <th>B</th>\n",
              "      <th>C</th>\n",
              "      <th>D</th>\n",
              "      <th>E</th>\n",
              "    </tr>\n",
              "  </thead>\n",
              "  <tbody>\n",
              "    <tr>\n",
              "      <th>2020-03-01</th>\n",
              "      <td>0.625876</td>\n",
              "      <td>-1.779283</td>\n",
              "      <td>0.570485</td>\n",
              "      <td>-1.122515</td>\n",
              "      <td>1.0</td>\n",
              "    </tr>\n",
              "    <tr>\n",
              "      <th>2020-03-02</th>\n",
              "      <td>1.074789</td>\n",
              "      <td>-0.237985</td>\n",
              "      <td>-0.620213</td>\n",
              "      <td>0.505322</td>\n",
              "      <td>1.0</td>\n",
              "    </tr>\n",
              "  </tbody>\n",
              "</table>\n",
              "</div>"
            ],
            "text/plain": [
              "                   A         B         C         D    E\n",
              "2020-03-01  0.625876 -1.779283  0.570485 -1.122515  1.0\n",
              "2020-03-02  1.074789 -0.237985 -0.620213  0.505322  1.0"
            ]
          },
          "metadata": {
            "tags": []
          },
          "execution_count": 212
        }
      ]
    },
    {
      "cell_type": "code",
      "metadata": {
        "id": "4HZVbyKT3cGR",
        "outputId": "40a92153-b93c-4ed7-f1d1-a75ebc12061b",
        "colab": {
          "base_uri": "https://localhost:8080/",
          "height": 171
        }
      },
      "source": [
        "df2.fillna(value=9)"
      ],
      "execution_count": 213,
      "outputs": [
        {
          "output_type": "execute_result",
          "data": {
            "text/html": [
              "<div>\n",
              "<style scoped>\n",
              "    .dataframe tbody tr th:only-of-type {\n",
              "        vertical-align: middle;\n",
              "    }\n",
              "\n",
              "    .dataframe tbody tr th {\n",
              "        vertical-align: top;\n",
              "    }\n",
              "\n",
              "    .dataframe thead th {\n",
              "        text-align: right;\n",
              "    }\n",
              "</style>\n",
              "<table border=\"1\" class=\"dataframe\">\n",
              "  <thead>\n",
              "    <tr style=\"text-align: right;\">\n",
              "      <th></th>\n",
              "      <th>A</th>\n",
              "      <th>B</th>\n",
              "      <th>C</th>\n",
              "      <th>D</th>\n",
              "      <th>E</th>\n",
              "    </tr>\n",
              "  </thead>\n",
              "  <tbody>\n",
              "    <tr>\n",
              "      <th>2020-03-01</th>\n",
              "      <td>0.625876</td>\n",
              "      <td>-1.779283</td>\n",
              "      <td>0.570485</td>\n",
              "      <td>-1.122515</td>\n",
              "      <td>1.0</td>\n",
              "    </tr>\n",
              "    <tr>\n",
              "      <th>2020-03-02</th>\n",
              "      <td>1.074789</td>\n",
              "      <td>-0.237985</td>\n",
              "      <td>-0.620213</td>\n",
              "      <td>0.505322</td>\n",
              "      <td>1.0</td>\n",
              "    </tr>\n",
              "    <tr>\n",
              "      <th>2020-03-03</th>\n",
              "      <td>-0.534624</td>\n",
              "      <td>-0.683850</td>\n",
              "      <td>-1.479998</td>\n",
              "      <td>0.957364</td>\n",
              "      <td>9.0</td>\n",
              "    </tr>\n",
              "    <tr>\n",
              "      <th>2020-03-04</th>\n",
              "      <td>-0.497201</td>\n",
              "      <td>-0.585051</td>\n",
              "      <td>-0.558555</td>\n",
              "      <td>1.259036</td>\n",
              "      <td>9.0</td>\n",
              "    </tr>\n",
              "  </tbody>\n",
              "</table>\n",
              "</div>"
            ],
            "text/plain": [
              "                   A         B         C         D    E\n",
              "2020-03-01  0.625876 -1.779283  0.570485 -1.122515  1.0\n",
              "2020-03-02  1.074789 -0.237985 -0.620213  0.505322  1.0\n",
              "2020-03-03 -0.534624 -0.683850 -1.479998  0.957364  9.0\n",
              "2020-03-04 -0.497201 -0.585051 -0.558555  1.259036  9.0"
            ]
          },
          "metadata": {
            "tags": []
          },
          "execution_count": 213
        }
      ]
    },
    {
      "cell_type": "code",
      "metadata": {
        "id": "eaZE7Mya3hrv",
        "outputId": "75c1b873-f846-461d-fbf9-b790e7eef1d0",
        "colab": {
          "base_uri": "https://localhost:8080/",
          "height": 171
        }
      },
      "source": [
        "pd.isna(df2)"
      ],
      "execution_count": 214,
      "outputs": [
        {
          "output_type": "execute_result",
          "data": {
            "text/html": [
              "<div>\n",
              "<style scoped>\n",
              "    .dataframe tbody tr th:only-of-type {\n",
              "        vertical-align: middle;\n",
              "    }\n",
              "\n",
              "    .dataframe tbody tr th {\n",
              "        vertical-align: top;\n",
              "    }\n",
              "\n",
              "    .dataframe thead th {\n",
              "        text-align: right;\n",
              "    }\n",
              "</style>\n",
              "<table border=\"1\" class=\"dataframe\">\n",
              "  <thead>\n",
              "    <tr style=\"text-align: right;\">\n",
              "      <th></th>\n",
              "      <th>A</th>\n",
              "      <th>B</th>\n",
              "      <th>C</th>\n",
              "      <th>D</th>\n",
              "      <th>E</th>\n",
              "    </tr>\n",
              "  </thead>\n",
              "  <tbody>\n",
              "    <tr>\n",
              "      <th>2020-03-01</th>\n",
              "      <td>False</td>\n",
              "      <td>False</td>\n",
              "      <td>False</td>\n",
              "      <td>False</td>\n",
              "      <td>False</td>\n",
              "    </tr>\n",
              "    <tr>\n",
              "      <th>2020-03-02</th>\n",
              "      <td>False</td>\n",
              "      <td>False</td>\n",
              "      <td>False</td>\n",
              "      <td>False</td>\n",
              "      <td>False</td>\n",
              "    </tr>\n",
              "    <tr>\n",
              "      <th>2020-03-03</th>\n",
              "      <td>False</td>\n",
              "      <td>False</td>\n",
              "      <td>False</td>\n",
              "      <td>False</td>\n",
              "      <td>True</td>\n",
              "    </tr>\n",
              "    <tr>\n",
              "      <th>2020-03-04</th>\n",
              "      <td>False</td>\n",
              "      <td>False</td>\n",
              "      <td>False</td>\n",
              "      <td>False</td>\n",
              "      <td>True</td>\n",
              "    </tr>\n",
              "  </tbody>\n",
              "</table>\n",
              "</div>"
            ],
            "text/plain": [
              "                A      B      C      D      E\n",
              "2020-03-01  False  False  False  False  False\n",
              "2020-03-02  False  False  False  False  False\n",
              "2020-03-03  False  False  False  False   True\n",
              "2020-03-04  False  False  False  False   True"
            ]
          },
          "metadata": {
            "tags": []
          },
          "execution_count": 214
        }
      ]
    },
    {
      "cell_type": "code",
      "metadata": {
        "id": "lJrnetDO3xmS",
        "outputId": "a1303f86-0455-4b04-8071-b1abbbbb550e",
        "colab": {
          "base_uri": "https://localhost:8080/",
          "height": 104
        }
      },
      "source": [
        "df.mean()"
      ],
      "execution_count": 215,
      "outputs": [
        {
          "output_type": "execute_result",
          "data": {
            "text/plain": [
              "A    0.244521\n",
              "B   -0.075632\n",
              "C    0.161572\n",
              "D   -0.132144\n",
              "dtype: float64"
            ]
          },
          "metadata": {
            "tags": []
          },
          "execution_count": 215
        }
      ]
    },
    {
      "cell_type": "code",
      "metadata": {
        "id": "nzRK1u5v5ACc",
        "outputId": "1fc80172-afe9-4afb-8331-2427b5465f5e",
        "colab": {
          "base_uri": "https://localhost:8080/",
          "height": 208
        }
      },
      "source": [
        "df.mean(1)"
      ],
      "execution_count": 216,
      "outputs": [
        {
          "output_type": "execute_result",
          "data": {
            "text/plain": [
              "2020-03-01   -0.426359\n",
              "2020-03-02    0.180478\n",
              "2020-03-03   -0.435277\n",
              "2020-03-04   -0.095443\n",
              "2020-03-05    1.283851\n",
              "2020-03-06    0.020144\n",
              "2020-03-07   -0.502754\n",
              "2020-03-08    0.648906\n",
              "2020-03-09   -0.345247\n",
              "2020-03-10    0.167495\n",
              "Freq: D, dtype: float64"
            ]
          },
          "metadata": {
            "tags": []
          },
          "execution_count": 216
        }
      ]
    },
    {
      "cell_type": "code",
      "metadata": {
        "id": "9598Wqei5DAC",
        "outputId": "0c686a30-6995-4af8-dd28-a11f54f82f44",
        "colab": {
          "base_uri": "https://localhost:8080/",
          "height": 104
        }
      },
      "source": [
        "df.median()"
      ],
      "execution_count": 217,
      "outputs": [
        {
          "output_type": "execute_result",
          "data": {
            "text/plain": [
              "A    0.511430\n",
              "B   -0.372965\n",
              "C   -0.101386\n",
              "D   -0.049201\n",
              "dtype: float64"
            ]
          },
          "metadata": {
            "tags": []
          },
          "execution_count": 217
        }
      ]
    },
    {
      "cell_type": "code",
      "metadata": {
        "id": "2RR-8CQsCFKn",
        "outputId": "8063dd19-9f8c-49c3-bf2a-4e6c2e7f9f43",
        "colab": {
          "base_uri": "https://localhost:8080/",
          "height": 355
        }
      },
      "source": [
        "df.apply(np.cumsum)"
      ],
      "execution_count": 218,
      "outputs": [
        {
          "output_type": "execute_result",
          "data": {
            "text/html": [
              "<div>\n",
              "<style scoped>\n",
              "    .dataframe tbody tr th:only-of-type {\n",
              "        vertical-align: middle;\n",
              "    }\n",
              "\n",
              "    .dataframe tbody tr th {\n",
              "        vertical-align: top;\n",
              "    }\n",
              "\n",
              "    .dataframe thead th {\n",
              "        text-align: right;\n",
              "    }\n",
              "</style>\n",
              "<table border=\"1\" class=\"dataframe\">\n",
              "  <thead>\n",
              "    <tr style=\"text-align: right;\">\n",
              "      <th></th>\n",
              "      <th>A</th>\n",
              "      <th>B</th>\n",
              "      <th>C</th>\n",
              "      <th>D</th>\n",
              "    </tr>\n",
              "  </thead>\n",
              "  <tbody>\n",
              "    <tr>\n",
              "      <th>2020-03-01</th>\n",
              "      <td>0.625876</td>\n",
              "      <td>-1.779283</td>\n",
              "      <td>0.570485</td>\n",
              "      <td>-1.122515</td>\n",
              "    </tr>\n",
              "    <tr>\n",
              "      <th>2020-03-02</th>\n",
              "      <td>1.700665</td>\n",
              "      <td>-2.017268</td>\n",
              "      <td>-0.049728</td>\n",
              "      <td>-0.617194</td>\n",
              "    </tr>\n",
              "    <tr>\n",
              "      <th>2020-03-03</th>\n",
              "      <td>1.166041</td>\n",
              "      <td>-2.701118</td>\n",
              "      <td>-1.529726</td>\n",
              "      <td>0.340171</td>\n",
              "    </tr>\n",
              "    <tr>\n",
              "      <th>2020-03-04</th>\n",
              "      <td>0.668840</td>\n",
              "      <td>-3.286168</td>\n",
              "      <td>-2.088282</td>\n",
              "      <td>1.599207</td>\n",
              "    </tr>\n",
              "    <tr>\n",
              "      <th>2020-03-05</th>\n",
              "      <td>1.301197</td>\n",
              "      <td>-1.506299</td>\n",
              "      <td>0.694111</td>\n",
              "      <td>1.539991</td>\n",
              "    </tr>\n",
              "    <tr>\n",
              "      <th>2020-03-06</th>\n",
              "      <td>0.984080</td>\n",
              "      <td>-2.221490</td>\n",
              "      <td>1.887492</td>\n",
              "      <td>1.459495</td>\n",
              "    </tr>\n",
              "    <tr>\n",
              "      <th>2020-03-07</th>\n",
              "      <td>0.328431</td>\n",
              "      <td>-1.941301</td>\n",
              "      <td>1.996248</td>\n",
              "      <td>-0.284816</td>\n",
              "    </tr>\n",
              "    <tr>\n",
              "      <th>2020-03-08</th>\n",
              "      <td>0.807781</td>\n",
              "      <td>-0.542386</td>\n",
              "      <td>2.752793</td>\n",
              "      <td>-0.324001</td>\n",
              "    </tr>\n",
              "    <tr>\n",
              "      <th>2020-03-09</th>\n",
              "      <td>1.901704</td>\n",
              "      <td>-1.050332</td>\n",
              "      <td>1.927247</td>\n",
              "      <td>-1.465423</td>\n",
              "    </tr>\n",
              "    <tr>\n",
              "      <th>2020-03-10</th>\n",
              "      <td>2.445215</td>\n",
              "      <td>-0.756319</td>\n",
              "      <td>1.615719</td>\n",
              "      <td>-1.321439</td>\n",
              "    </tr>\n",
              "  </tbody>\n",
              "</table>\n",
              "</div>"
            ],
            "text/plain": [
              "                   A         B         C         D\n",
              "2020-03-01  0.625876 -1.779283  0.570485 -1.122515\n",
              "2020-03-02  1.700665 -2.017268 -0.049728 -0.617194\n",
              "2020-03-03  1.166041 -2.701118 -1.529726  0.340171\n",
              "2020-03-04  0.668840 -3.286168 -2.088282  1.599207\n",
              "2020-03-05  1.301197 -1.506299  0.694111  1.539991\n",
              "2020-03-06  0.984080 -2.221490  1.887492  1.459495\n",
              "2020-03-07  0.328431 -1.941301  1.996248 -0.284816\n",
              "2020-03-08  0.807781 -0.542386  2.752793 -0.324001\n",
              "2020-03-09  1.901704 -1.050332  1.927247 -1.465423\n",
              "2020-03-10  2.445215 -0.756319  1.615719 -1.321439"
            ]
          },
          "metadata": {
            "tags": []
          },
          "execution_count": 218
        }
      ]
    },
    {
      "cell_type": "code",
      "metadata": {
        "id": "ER9WSmAKCPYg",
        "outputId": "ef604471-91de-4ca5-c609-9c193a5c9e60",
        "colab": {
          "base_uri": "https://localhost:8080/",
          "height": 104
        }
      },
      "source": [
        "df.apply(lambda x: x.max() - x.min())"
      ],
      "execution_count": 219,
      "outputs": [
        {
          "output_type": "execute_result",
          "data": {
            "text/plain": [
              "A    1.749573\n",
              "B    3.559152\n",
              "C    4.262390\n",
              "D    3.003348\n",
              "dtype: float64"
            ]
          },
          "metadata": {
            "tags": []
          },
          "execution_count": 219
        }
      ]
    },
    {
      "cell_type": "code",
      "metadata": {
        "id": "jjR_jPMzCm4U",
        "outputId": "3e08be07-d374-44cd-f195-1f8071635035",
        "colab": {
          "base_uri": "https://localhost:8080/",
          "height": 191
        }
      },
      "source": [
        "s.value_counts()"
      ],
      "execution_count": 220,
      "outputs": [
        {
          "output_type": "execute_result",
          "data": {
            "text/plain": [
              "10.0    1\n",
              "8.0     1\n",
              "9.0     1\n",
              "6.0     1\n",
              "5.0     1\n",
              "4.0     1\n",
              "3.0     1\n",
              "2.0     1\n",
              "1.0     1\n",
              "dtype: int64"
            ]
          },
          "metadata": {
            "tags": []
          },
          "execution_count": 220
        }
      ]
    },
    {
      "cell_type": "code",
      "metadata": {
        "id": "R0SD8c5xC1ej"
      },
      "source": [
        "s  = pd.Series(['python','colab','machine_learning',np.nan,'data_science'])"
      ],
      "execution_count": 221,
      "outputs": []
    },
    {
      "cell_type": "code",
      "metadata": {
        "id": "Zml4ez8WDhUD",
        "outputId": "66f5f37b-cef9-4a78-9095-30cbce26a3dc",
        "colab": {
          "base_uri": "https://localhost:8080/",
          "height": 121
        }
      },
      "source": [
        "s.str.upper()"
      ],
      "execution_count": 222,
      "outputs": [
        {
          "output_type": "execute_result",
          "data": {
            "text/plain": [
              "0              PYTHON\n",
              "1               COLAB\n",
              "2    MACHINE_LEARNING\n",
              "3                 NaN\n",
              "4        DATA_SCIENCE\n",
              "dtype: object"
            ]
          },
          "metadata": {
            "tags": []
          },
          "execution_count": 222
        }
      ]
    },
    {
      "cell_type": "code",
      "metadata": {
        "id": "vICqRZG3DtJc",
        "outputId": "54fa3fdc-740b-44ee-d09f-08f987457d96",
        "colab": {
          "base_uri": "https://localhost:8080/",
          "height": 208
        }
      },
      "source": [
        "df = pd.DataFrame(np.random.randn(10,4))\n",
        "print(df)"
      ],
      "execution_count": 223,
      "outputs": [
        {
          "output_type": "stream",
          "text": [
            "          0         1         2         3\n",
            "0 -0.456932 -0.344993 -0.478344  0.824261\n",
            "1  0.299626  0.586636 -0.284826 -0.537027\n",
            "2 -1.370252 -0.106914 -1.787201  0.388664\n",
            "3  0.245109 -0.496767 -1.090169  0.092069\n",
            "4 -0.848813 -1.081908 -0.068302 -0.889252\n",
            "5 -0.981562 -1.176116 -0.133878  0.744877\n",
            "6  0.920088 -0.144714 -0.067264 -1.008574\n",
            "7  0.569790 -1.052967 -0.224846  0.218970\n",
            "8 -1.599630 -0.301048 -0.868206  0.254772\n",
            "9  1.136366  0.555308 -0.681583  0.741832\n"
          ],
          "name": "stdout"
        }
      ]
    },
    {
      "cell_type": "code",
      "metadata": {
        "id": "_jimZpRxFdv7"
      },
      "source": [
        "df2 = (df[:3],df[3:7],df[7:])"
      ],
      "execution_count": 224,
      "outputs": []
    },
    {
      "cell_type": "code",
      "metadata": {
        "id": "YXfZbCoIF6jw",
        "outputId": "b7f713c0-4878-4540-aaf3-fd35fcb87f5c",
        "colab": {
          "base_uri": "https://localhost:8080/",
          "height": 243
        }
      },
      "source": [
        "df2"
      ],
      "execution_count": 225,
      "outputs": [
        {
          "output_type": "execute_result",
          "data": {
            "text/plain": [
              "(          0         1         2         3\n",
              " 0 -0.456932 -0.344993 -0.478344  0.824261\n",
              " 1  0.299626  0.586636 -0.284826 -0.537027\n",
              " 2 -1.370252 -0.106914 -1.787201  0.388664,\n",
              "           0         1         2         3\n",
              " 3  0.245109 -0.496767 -1.090169  0.092069\n",
              " 4 -0.848813 -1.081908 -0.068302 -0.889252\n",
              " 5 -0.981562 -1.176116 -0.133878  0.744877\n",
              " 6  0.920088 -0.144714 -0.067264 -1.008574,\n",
              "           0         1         2         3\n",
              " 7  0.569790 -1.052967 -0.224846  0.218970\n",
              " 8 -1.599630 -0.301048 -0.868206  0.254772\n",
              " 9  1.136366  0.555308 -0.681583  0.741832)"
            ]
          },
          "metadata": {
            "tags": []
          },
          "execution_count": 225
        }
      ]
    },
    {
      "cell_type": "code",
      "metadata": {
        "id": "razyjRCtF9W5",
        "outputId": "e1e140f7-4f20-49ab-fce9-dbf1f54bfa9f",
        "colab": {
          "base_uri": "https://localhost:8080/",
          "height": 355
        }
      },
      "source": [
        "pd.concat(df2)"
      ],
      "execution_count": 226,
      "outputs": [
        {
          "output_type": "execute_result",
          "data": {
            "text/html": [
              "<div>\n",
              "<style scoped>\n",
              "    .dataframe tbody tr th:only-of-type {\n",
              "        vertical-align: middle;\n",
              "    }\n",
              "\n",
              "    .dataframe tbody tr th {\n",
              "        vertical-align: top;\n",
              "    }\n",
              "\n",
              "    .dataframe thead th {\n",
              "        text-align: right;\n",
              "    }\n",
              "</style>\n",
              "<table border=\"1\" class=\"dataframe\">\n",
              "  <thead>\n",
              "    <tr style=\"text-align: right;\">\n",
              "      <th></th>\n",
              "      <th>0</th>\n",
              "      <th>1</th>\n",
              "      <th>2</th>\n",
              "      <th>3</th>\n",
              "    </tr>\n",
              "  </thead>\n",
              "  <tbody>\n",
              "    <tr>\n",
              "      <th>0</th>\n",
              "      <td>-0.456932</td>\n",
              "      <td>-0.344993</td>\n",
              "      <td>-0.478344</td>\n",
              "      <td>0.824261</td>\n",
              "    </tr>\n",
              "    <tr>\n",
              "      <th>1</th>\n",
              "      <td>0.299626</td>\n",
              "      <td>0.586636</td>\n",
              "      <td>-0.284826</td>\n",
              "      <td>-0.537027</td>\n",
              "    </tr>\n",
              "    <tr>\n",
              "      <th>2</th>\n",
              "      <td>-1.370252</td>\n",
              "      <td>-0.106914</td>\n",
              "      <td>-1.787201</td>\n",
              "      <td>0.388664</td>\n",
              "    </tr>\n",
              "    <tr>\n",
              "      <th>3</th>\n",
              "      <td>0.245109</td>\n",
              "      <td>-0.496767</td>\n",
              "      <td>-1.090169</td>\n",
              "      <td>0.092069</td>\n",
              "    </tr>\n",
              "    <tr>\n",
              "      <th>4</th>\n",
              "      <td>-0.848813</td>\n",
              "      <td>-1.081908</td>\n",
              "      <td>-0.068302</td>\n",
              "      <td>-0.889252</td>\n",
              "    </tr>\n",
              "    <tr>\n",
              "      <th>5</th>\n",
              "      <td>-0.981562</td>\n",
              "      <td>-1.176116</td>\n",
              "      <td>-0.133878</td>\n",
              "      <td>0.744877</td>\n",
              "    </tr>\n",
              "    <tr>\n",
              "      <th>6</th>\n",
              "      <td>0.920088</td>\n",
              "      <td>-0.144714</td>\n",
              "      <td>-0.067264</td>\n",
              "      <td>-1.008574</td>\n",
              "    </tr>\n",
              "    <tr>\n",
              "      <th>7</th>\n",
              "      <td>0.569790</td>\n",
              "      <td>-1.052967</td>\n",
              "      <td>-0.224846</td>\n",
              "      <td>0.218970</td>\n",
              "    </tr>\n",
              "    <tr>\n",
              "      <th>8</th>\n",
              "      <td>-1.599630</td>\n",
              "      <td>-0.301048</td>\n",
              "      <td>-0.868206</td>\n",
              "      <td>0.254772</td>\n",
              "    </tr>\n",
              "    <tr>\n",
              "      <th>9</th>\n",
              "      <td>1.136366</td>\n",
              "      <td>0.555308</td>\n",
              "      <td>-0.681583</td>\n",
              "      <td>0.741832</td>\n",
              "    </tr>\n",
              "  </tbody>\n",
              "</table>\n",
              "</div>"
            ],
            "text/plain": [
              "          0         1         2         3\n",
              "0 -0.456932 -0.344993 -0.478344  0.824261\n",
              "1  0.299626  0.586636 -0.284826 -0.537027\n",
              "2 -1.370252 -0.106914 -1.787201  0.388664\n",
              "3  0.245109 -0.496767 -1.090169  0.092069\n",
              "4 -0.848813 -1.081908 -0.068302 -0.889252\n",
              "5 -0.981562 -1.176116 -0.133878  0.744877\n",
              "6  0.920088 -0.144714 -0.067264 -1.008574\n",
              "7  0.569790 -1.052967 -0.224846  0.218970\n",
              "8 -1.599630 -0.301048 -0.868206  0.254772\n",
              "9  1.136366  0.555308 -0.681583  0.741832"
            ]
          },
          "metadata": {
            "tags": []
          },
          "execution_count": 226
        }
      ]
    },
    {
      "cell_type": "code",
      "metadata": {
        "id": "qOkX6MJXGMkv"
      },
      "source": [
        "left = pd.DataFrame({ 'A': [1,2] , 'B': [3,4]})"
      ],
      "execution_count": 227,
      "outputs": []
    },
    {
      "cell_type": "code",
      "metadata": {
        "id": "zuuCFpR_IIB3"
      },
      "source": [
        "right = pd.DataFrame({ 'A': [5,2] , 'D': [6,4]})"
      ],
      "execution_count": 228,
      "outputs": []
    },
    {
      "cell_type": "code",
      "metadata": {
        "id": "WR58YygoI2hB",
        "outputId": "a1483f5d-b382-4c66-d960-48e678a28b65",
        "colab": {
          "base_uri": "https://localhost:8080/",
          "height": 110
        }
      },
      "source": [
        "left"
      ],
      "execution_count": 229,
      "outputs": [
        {
          "output_type": "execute_result",
          "data": {
            "text/html": [
              "<div>\n",
              "<style scoped>\n",
              "    .dataframe tbody tr th:only-of-type {\n",
              "        vertical-align: middle;\n",
              "    }\n",
              "\n",
              "    .dataframe tbody tr th {\n",
              "        vertical-align: top;\n",
              "    }\n",
              "\n",
              "    .dataframe thead th {\n",
              "        text-align: right;\n",
              "    }\n",
              "</style>\n",
              "<table border=\"1\" class=\"dataframe\">\n",
              "  <thead>\n",
              "    <tr style=\"text-align: right;\">\n",
              "      <th></th>\n",
              "      <th>A</th>\n",
              "      <th>B</th>\n",
              "    </tr>\n",
              "  </thead>\n",
              "  <tbody>\n",
              "    <tr>\n",
              "      <th>0</th>\n",
              "      <td>1</td>\n",
              "      <td>3</td>\n",
              "    </tr>\n",
              "    <tr>\n",
              "      <th>1</th>\n",
              "      <td>2</td>\n",
              "      <td>4</td>\n",
              "    </tr>\n",
              "  </tbody>\n",
              "</table>\n",
              "</div>"
            ],
            "text/plain": [
              "   A  B\n",
              "0  1  3\n",
              "1  2  4"
            ]
          },
          "metadata": {
            "tags": []
          },
          "execution_count": 229
        }
      ]
    },
    {
      "cell_type": "code",
      "metadata": {
        "id": "rGoSr22zI3Po",
        "outputId": "8bd64261-f4b7-4c3f-d387-ef3544786540",
        "colab": {
          "base_uri": "https://localhost:8080/",
          "height": 110
        }
      },
      "source": [
        "right"
      ],
      "execution_count": 230,
      "outputs": [
        {
          "output_type": "execute_result",
          "data": {
            "text/html": [
              "<div>\n",
              "<style scoped>\n",
              "    .dataframe tbody tr th:only-of-type {\n",
              "        vertical-align: middle;\n",
              "    }\n",
              "\n",
              "    .dataframe tbody tr th {\n",
              "        vertical-align: top;\n",
              "    }\n",
              "\n",
              "    .dataframe thead th {\n",
              "        text-align: right;\n",
              "    }\n",
              "</style>\n",
              "<table border=\"1\" class=\"dataframe\">\n",
              "  <thead>\n",
              "    <tr style=\"text-align: right;\">\n",
              "      <th></th>\n",
              "      <th>A</th>\n",
              "      <th>D</th>\n",
              "    </tr>\n",
              "  </thead>\n",
              "  <tbody>\n",
              "    <tr>\n",
              "      <th>0</th>\n",
              "      <td>5</td>\n",
              "      <td>6</td>\n",
              "    </tr>\n",
              "    <tr>\n",
              "      <th>1</th>\n",
              "      <td>2</td>\n",
              "      <td>4</td>\n",
              "    </tr>\n",
              "  </tbody>\n",
              "</table>\n",
              "</div>"
            ],
            "text/plain": [
              "   A  D\n",
              "0  5  6\n",
              "1  2  4"
            ]
          },
          "metadata": {
            "tags": []
          },
          "execution_count": 230
        }
      ]
    },
    {
      "cell_type": "code",
      "metadata": {
        "id": "QOVKmuO0I4cN",
        "outputId": "c2b1974c-1a14-44ae-a906-c6aaf721431f",
        "colab": {
          "base_uri": "https://localhost:8080/",
          "height": 79
        }
      },
      "source": [
        "pd.merge(left,right, on='A')"
      ],
      "execution_count": 231,
      "outputs": [
        {
          "output_type": "execute_result",
          "data": {
            "text/html": [
              "<div>\n",
              "<style scoped>\n",
              "    .dataframe tbody tr th:only-of-type {\n",
              "        vertical-align: middle;\n",
              "    }\n",
              "\n",
              "    .dataframe tbody tr th {\n",
              "        vertical-align: top;\n",
              "    }\n",
              "\n",
              "    .dataframe thead th {\n",
              "        text-align: right;\n",
              "    }\n",
              "</style>\n",
              "<table border=\"1\" class=\"dataframe\">\n",
              "  <thead>\n",
              "    <tr style=\"text-align: right;\">\n",
              "      <th></th>\n",
              "      <th>A</th>\n",
              "      <th>B</th>\n",
              "      <th>D</th>\n",
              "    </tr>\n",
              "  </thead>\n",
              "  <tbody>\n",
              "    <tr>\n",
              "      <th>0</th>\n",
              "      <td>2</td>\n",
              "      <td>4</td>\n",
              "      <td>4</td>\n",
              "    </tr>\n",
              "  </tbody>\n",
              "</table>\n",
              "</div>"
            ],
            "text/plain": [
              "   A  B  D\n",
              "0  2  4  4"
            ]
          },
          "metadata": {
            "tags": []
          },
          "execution_count": 231
        }
      ]
    },
    {
      "cell_type": "code",
      "metadata": {
        "id": "hPQzI7DTJqJC",
        "outputId": "cf36288c-769b-419e-890d-709fa4da54c7",
        "colab": {
          "base_uri": "https://localhost:8080/",
          "height": 386
        }
      },
      "source": [
        "df.groupby(2).sum()"
      ],
      "execution_count": 232,
      "outputs": [
        {
          "output_type": "execute_result",
          "data": {
            "text/html": [
              "<div>\n",
              "<style scoped>\n",
              "    .dataframe tbody tr th:only-of-type {\n",
              "        vertical-align: middle;\n",
              "    }\n",
              "\n",
              "    .dataframe tbody tr th {\n",
              "        vertical-align: top;\n",
              "    }\n",
              "\n",
              "    .dataframe thead th {\n",
              "        text-align: right;\n",
              "    }\n",
              "</style>\n",
              "<table border=\"1\" class=\"dataframe\">\n",
              "  <thead>\n",
              "    <tr style=\"text-align: right;\">\n",
              "      <th></th>\n",
              "      <th>0</th>\n",
              "      <th>1</th>\n",
              "      <th>3</th>\n",
              "    </tr>\n",
              "    <tr>\n",
              "      <th>2</th>\n",
              "      <th></th>\n",
              "      <th></th>\n",
              "      <th></th>\n",
              "    </tr>\n",
              "  </thead>\n",
              "  <tbody>\n",
              "    <tr>\n",
              "      <th>-1.787201</th>\n",
              "      <td>-1.370252</td>\n",
              "      <td>-0.106914</td>\n",
              "      <td>0.388664</td>\n",
              "    </tr>\n",
              "    <tr>\n",
              "      <th>-1.090169</th>\n",
              "      <td>0.245109</td>\n",
              "      <td>-0.496767</td>\n",
              "      <td>0.092069</td>\n",
              "    </tr>\n",
              "    <tr>\n",
              "      <th>-0.868206</th>\n",
              "      <td>-1.599630</td>\n",
              "      <td>-0.301048</td>\n",
              "      <td>0.254772</td>\n",
              "    </tr>\n",
              "    <tr>\n",
              "      <th>-0.681583</th>\n",
              "      <td>1.136366</td>\n",
              "      <td>0.555308</td>\n",
              "      <td>0.741832</td>\n",
              "    </tr>\n",
              "    <tr>\n",
              "      <th>-0.478344</th>\n",
              "      <td>-0.456932</td>\n",
              "      <td>-0.344993</td>\n",
              "      <td>0.824261</td>\n",
              "    </tr>\n",
              "    <tr>\n",
              "      <th>-0.284826</th>\n",
              "      <td>0.299626</td>\n",
              "      <td>0.586636</td>\n",
              "      <td>-0.537027</td>\n",
              "    </tr>\n",
              "    <tr>\n",
              "      <th>-0.224846</th>\n",
              "      <td>0.569790</td>\n",
              "      <td>-1.052967</td>\n",
              "      <td>0.218970</td>\n",
              "    </tr>\n",
              "    <tr>\n",
              "      <th>-0.133878</th>\n",
              "      <td>-0.981562</td>\n",
              "      <td>-1.176116</td>\n",
              "      <td>0.744877</td>\n",
              "    </tr>\n",
              "    <tr>\n",
              "      <th>-0.068302</th>\n",
              "      <td>-0.848813</td>\n",
              "      <td>-1.081908</td>\n",
              "      <td>-0.889252</td>\n",
              "    </tr>\n",
              "    <tr>\n",
              "      <th>-0.067264</th>\n",
              "      <td>0.920088</td>\n",
              "      <td>-0.144714</td>\n",
              "      <td>-1.008574</td>\n",
              "    </tr>\n",
              "  </tbody>\n",
              "</table>\n",
              "</div>"
            ],
            "text/plain": [
              "                  0         1         3\n",
              "2                                      \n",
              "-1.787201 -1.370252 -0.106914  0.388664\n",
              "-1.090169  0.245109 -0.496767  0.092069\n",
              "-0.868206 -1.599630 -0.301048  0.254772\n",
              "-0.681583  1.136366  0.555308  0.741832\n",
              "-0.478344 -0.456932 -0.344993  0.824261\n",
              "-0.284826  0.299626  0.586636 -0.537027\n",
              "-0.224846  0.569790 -1.052967  0.218970\n",
              "-0.133878 -0.981562 -1.176116  0.744877\n",
              "-0.068302 -0.848813 -1.081908 -0.889252\n",
              "-0.067264  0.920088 -0.144714 -1.008574"
            ]
          },
          "metadata": {
            "tags": []
          },
          "execution_count": 232
        }
      ]
    },
    {
      "cell_type": "code",
      "metadata": {
        "id": "TnHWk8igKZdI"
      },
      "source": [
        "my_tuple = list(zip(*[[1,2,3,4,5,6,7],[44,33,22,11,55,66,77]]))"
      ],
      "execution_count": 233,
      "outputs": []
    },
    {
      "cell_type": "code",
      "metadata": {
        "id": "Iqo8SADsPE50"
      },
      "source": [
        "index = pd.MultiIndex.from_tuples(my_tuple, names=['first', 'second'])"
      ],
      "execution_count": 234,
      "outputs": []
    },
    {
      "cell_type": "code",
      "metadata": {
        "id": "JsSwoxMKQGrE"
      },
      "source": [
        "df = pd.DataFrame(np.random.randn(7,2), index = index, columns = ['A','B'])"
      ],
      "execution_count": 235,
      "outputs": []
    },
    {
      "cell_type": "code",
      "metadata": {
        "id": "uFhntbaMQnqb"
      },
      "source": [
        "df2= df[:4]"
      ],
      "execution_count": 236,
      "outputs": []
    },
    {
      "cell_type": "code",
      "metadata": {
        "id": "xDOHw8tNRHsm",
        "outputId": "0943585c-c927-47be-e2a1-445be1823614",
        "colab": {
          "base_uri": "https://localhost:8080/",
          "height": 202
        }
      },
      "source": [
        "df2"
      ],
      "execution_count": 237,
      "outputs": [
        {
          "output_type": "execute_result",
          "data": {
            "text/html": [
              "<div>\n",
              "<style scoped>\n",
              "    .dataframe tbody tr th:only-of-type {\n",
              "        vertical-align: middle;\n",
              "    }\n",
              "\n",
              "    .dataframe tbody tr th {\n",
              "        vertical-align: top;\n",
              "    }\n",
              "\n",
              "    .dataframe thead th {\n",
              "        text-align: right;\n",
              "    }\n",
              "</style>\n",
              "<table border=\"1\" class=\"dataframe\">\n",
              "  <thead>\n",
              "    <tr style=\"text-align: right;\">\n",
              "      <th></th>\n",
              "      <th></th>\n",
              "      <th>A</th>\n",
              "      <th>B</th>\n",
              "    </tr>\n",
              "    <tr>\n",
              "      <th>first</th>\n",
              "      <th>second</th>\n",
              "      <th></th>\n",
              "      <th></th>\n",
              "    </tr>\n",
              "  </thead>\n",
              "  <tbody>\n",
              "    <tr>\n",
              "      <th>1</th>\n",
              "      <th>44</th>\n",
              "      <td>-0.831779</td>\n",
              "      <td>0.323790</td>\n",
              "    </tr>\n",
              "    <tr>\n",
              "      <th>2</th>\n",
              "      <th>33</th>\n",
              "      <td>-0.475465</td>\n",
              "      <td>1.702727</td>\n",
              "    </tr>\n",
              "    <tr>\n",
              "      <th>3</th>\n",
              "      <th>22</th>\n",
              "      <td>1.097241</td>\n",
              "      <td>-0.985103</td>\n",
              "    </tr>\n",
              "    <tr>\n",
              "      <th>4</th>\n",
              "      <th>11</th>\n",
              "      <td>-0.863158</td>\n",
              "      <td>2.094500</td>\n",
              "    </tr>\n",
              "  </tbody>\n",
              "</table>\n",
              "</div>"
            ],
            "text/plain": [
              "                     A         B\n",
              "first second                    \n",
              "1     44     -0.831779  0.323790\n",
              "2     33     -0.475465  1.702727\n",
              "3     22      1.097241 -0.985103\n",
              "4     11     -0.863158  2.094500"
            ]
          },
          "metadata": {
            "tags": []
          },
          "execution_count": 237
        }
      ]
    },
    {
      "cell_type": "code",
      "metadata": {
        "id": "qd60e777RJ2Y",
        "outputId": "2f399026-f27d-48f1-fc5f-1b5e9b3280e6",
        "colab": {
          "base_uri": "https://localhost:8080/",
          "height": 191
        }
      },
      "source": [
        "a = df2.stack()\n",
        "print(a)"
      ],
      "execution_count": 241,
      "outputs": [
        {
          "output_type": "stream",
          "text": [
            "first  second   \n",
            "1      44      A   -0.831779\n",
            "               B    0.323790\n",
            "2      33      A   -0.475465\n",
            "               B    1.702727\n",
            "3      22      A    1.097241\n",
            "               B   -0.985103\n",
            "4      11      A   -0.863158\n",
            "               B    2.094500\n",
            "dtype: float64\n"
          ],
          "name": "stdout"
        }
      ]
    },
    {
      "cell_type": "code",
      "metadata": {
        "id": "Eu2QBOzDRVc2",
        "outputId": "69adaefb-22e4-4db1-b078-f4abe71f11f9",
        "colab": {
          "base_uri": "https://localhost:8080/",
          "height": 202
        }
      },
      "source": [
        "a.unstack()"
      ],
      "execution_count": 239,
      "outputs": [
        {
          "output_type": "execute_result",
          "data": {
            "text/html": [
              "<div>\n",
              "<style scoped>\n",
              "    .dataframe tbody tr th:only-of-type {\n",
              "        vertical-align: middle;\n",
              "    }\n",
              "\n",
              "    .dataframe tbody tr th {\n",
              "        vertical-align: top;\n",
              "    }\n",
              "\n",
              "    .dataframe thead th {\n",
              "        text-align: right;\n",
              "    }\n",
              "</style>\n",
              "<table border=\"1\" class=\"dataframe\">\n",
              "  <thead>\n",
              "    <tr style=\"text-align: right;\">\n",
              "      <th></th>\n",
              "      <th></th>\n",
              "      <th>A</th>\n",
              "      <th>B</th>\n",
              "    </tr>\n",
              "    <tr>\n",
              "      <th>first</th>\n",
              "      <th>second</th>\n",
              "      <th></th>\n",
              "      <th></th>\n",
              "    </tr>\n",
              "  </thead>\n",
              "  <tbody>\n",
              "    <tr>\n",
              "      <th>1</th>\n",
              "      <th>44</th>\n",
              "      <td>-0.831779</td>\n",
              "      <td>0.323790</td>\n",
              "    </tr>\n",
              "    <tr>\n",
              "      <th>2</th>\n",
              "      <th>33</th>\n",
              "      <td>-0.475465</td>\n",
              "      <td>1.702727</td>\n",
              "    </tr>\n",
              "    <tr>\n",
              "      <th>3</th>\n",
              "      <th>22</th>\n",
              "      <td>1.097241</td>\n",
              "      <td>-0.985103</td>\n",
              "    </tr>\n",
              "    <tr>\n",
              "      <th>4</th>\n",
              "      <th>11</th>\n",
              "      <td>-0.863158</td>\n",
              "      <td>2.094500</td>\n",
              "    </tr>\n",
              "  </tbody>\n",
              "</table>\n",
              "</div>"
            ],
            "text/plain": [
              "                     A         B\n",
              "first second                    \n",
              "1     44     -0.831779  0.323790\n",
              "2     33     -0.475465  1.702727\n",
              "3     22      1.097241 -0.985103\n",
              "4     11     -0.863158  2.094500"
            ]
          },
          "metadata": {
            "tags": []
          },
          "execution_count": 239
        }
      ]
    },
    {
      "cell_type": "code",
      "metadata": {
        "id": "I_ukvc05RepI",
        "outputId": "afc977f9-b7b0-4e36-b460-05fbdbf03130",
        "colab": {
          "base_uri": "https://localhost:8080/",
          "height": 243
        }
      },
      "source": [
        "df = pd.DataFrame({'A':['a','b','c','d']*3,\n",
        "                  'B':['A','B','C']*4,\n",
        "                   'C':['Q','Q','Q','W','W','W']*2,\n",
        "                   'D':np.random.randn(12),\n",
        "                   'E':np.random.randn(12)})\n",
        "print(df)"
      ],
      "execution_count": 244,
      "outputs": [
        {
          "output_type": "stream",
          "text": [
            "    A  B  C         D         E\n",
            "0   a  A  Q -1.503550 -0.115084\n",
            "1   b  B  Q  0.549099  0.096522\n",
            "2   c  C  Q -0.840931 -1.532161\n",
            "3   d  A  W -0.509483 -0.804783\n",
            "4   a  B  W -0.891781  0.643139\n",
            "5   b  C  W  2.696154  0.868804\n",
            "6   c  A  Q -0.032159  0.609058\n",
            "7   d  B  Q  1.139367  0.497832\n",
            "8   a  C  Q -0.043465  0.090185\n",
            "9   b  A  W -0.206263 -0.904783\n",
            "10  c  B  W  0.185181  0.089305\n",
            "11  d  C  W -1.269676  0.021065\n"
          ],
          "name": "stdout"
        }
      ]
    },
    {
      "cell_type": "code",
      "metadata": {
        "id": "ghiOyN5aTWMT",
        "outputId": "f141a094-3004-4460-ce77-ee41d7c3dbdd",
        "colab": {
          "base_uri": "https://localhost:8080/",
          "height": 447
        }
      },
      "source": [
        "pd.pivot_table(df , values='D' , index=['A','B'], columns='C')"
      ],
      "execution_count": 245,
      "outputs": [
        {
          "output_type": "execute_result",
          "data": {
            "text/html": [
              "<div>\n",
              "<style scoped>\n",
              "    .dataframe tbody tr th:only-of-type {\n",
              "        vertical-align: middle;\n",
              "    }\n",
              "\n",
              "    .dataframe tbody tr th {\n",
              "        vertical-align: top;\n",
              "    }\n",
              "\n",
              "    .dataframe thead th {\n",
              "        text-align: right;\n",
              "    }\n",
              "</style>\n",
              "<table border=\"1\" class=\"dataframe\">\n",
              "  <thead>\n",
              "    <tr style=\"text-align: right;\">\n",
              "      <th></th>\n",
              "      <th>C</th>\n",
              "      <th>Q</th>\n",
              "      <th>W</th>\n",
              "    </tr>\n",
              "    <tr>\n",
              "      <th>A</th>\n",
              "      <th>B</th>\n",
              "      <th></th>\n",
              "      <th></th>\n",
              "    </tr>\n",
              "  </thead>\n",
              "  <tbody>\n",
              "    <tr>\n",
              "      <th rowspan=\"3\" valign=\"top\">a</th>\n",
              "      <th>A</th>\n",
              "      <td>-1.503550</td>\n",
              "      <td>NaN</td>\n",
              "    </tr>\n",
              "    <tr>\n",
              "      <th>B</th>\n",
              "      <td>NaN</td>\n",
              "      <td>-0.891781</td>\n",
              "    </tr>\n",
              "    <tr>\n",
              "      <th>C</th>\n",
              "      <td>-0.043465</td>\n",
              "      <td>NaN</td>\n",
              "    </tr>\n",
              "    <tr>\n",
              "      <th rowspan=\"3\" valign=\"top\">b</th>\n",
              "      <th>A</th>\n",
              "      <td>NaN</td>\n",
              "      <td>-0.206263</td>\n",
              "    </tr>\n",
              "    <tr>\n",
              "      <th>B</th>\n",
              "      <td>0.549099</td>\n",
              "      <td>NaN</td>\n",
              "    </tr>\n",
              "    <tr>\n",
              "      <th>C</th>\n",
              "      <td>NaN</td>\n",
              "      <td>2.696154</td>\n",
              "    </tr>\n",
              "    <tr>\n",
              "      <th rowspan=\"3\" valign=\"top\">c</th>\n",
              "      <th>A</th>\n",
              "      <td>-0.032159</td>\n",
              "      <td>NaN</td>\n",
              "    </tr>\n",
              "    <tr>\n",
              "      <th>B</th>\n",
              "      <td>NaN</td>\n",
              "      <td>0.185181</td>\n",
              "    </tr>\n",
              "    <tr>\n",
              "      <th>C</th>\n",
              "      <td>-0.840931</td>\n",
              "      <td>NaN</td>\n",
              "    </tr>\n",
              "    <tr>\n",
              "      <th rowspan=\"3\" valign=\"top\">d</th>\n",
              "      <th>A</th>\n",
              "      <td>NaN</td>\n",
              "      <td>-0.509483</td>\n",
              "    </tr>\n",
              "    <tr>\n",
              "      <th>B</th>\n",
              "      <td>1.139367</td>\n",
              "      <td>NaN</td>\n",
              "    </tr>\n",
              "    <tr>\n",
              "      <th>C</th>\n",
              "      <td>NaN</td>\n",
              "      <td>-1.269676</td>\n",
              "    </tr>\n",
              "  </tbody>\n",
              "</table>\n",
              "</div>"
            ],
            "text/plain": [
              "C           Q         W\n",
              "A B                    \n",
              "a A -1.503550       NaN\n",
              "  B       NaN -0.891781\n",
              "  C -0.043465       NaN\n",
              "b A       NaN -0.206263\n",
              "  B  0.549099       NaN\n",
              "  C       NaN  2.696154\n",
              "c A -0.032159       NaN\n",
              "  B       NaN  0.185181\n",
              "  C -0.840931       NaN\n",
              "d A       NaN -0.509483\n",
              "  B  1.139367       NaN\n",
              "  C       NaN -1.269676"
            ]
          },
          "metadata": {
            "tags": []
          },
          "execution_count": 245
        }
      ]
    },
    {
      "cell_type": "code",
      "metadata": {
        "id": "-3kbPFa0T_Ur"
      },
      "source": [
        "dates = pd.date_range('20200301', periods=100 , freq='S')"
      ],
      "execution_count": 247,
      "outputs": []
    },
    {
      "cell_type": "code",
      "metadata": {
        "id": "5oUawzf8VSxo",
        "outputId": "b7576b2b-ca59-4347-dd0d-196b3c87544c",
        "colab": {
          "base_uri": "https://localhost:8080/",
          "height": 901
        }
      },
      "source": [
        "dates"
      ],
      "execution_count": 248,
      "outputs": [
        {
          "output_type": "execute_result",
          "data": {
            "text/plain": [
              "DatetimeIndex(['2020-03-01 00:00:00', '2020-03-01 00:00:01',\n",
              "               '2020-03-01 00:00:02', '2020-03-01 00:00:03',\n",
              "               '2020-03-01 00:00:04', '2020-03-01 00:00:05',\n",
              "               '2020-03-01 00:00:06', '2020-03-01 00:00:07',\n",
              "               '2020-03-01 00:00:08', '2020-03-01 00:00:09',\n",
              "               '2020-03-01 00:00:10', '2020-03-01 00:00:11',\n",
              "               '2020-03-01 00:00:12', '2020-03-01 00:00:13',\n",
              "               '2020-03-01 00:00:14', '2020-03-01 00:00:15',\n",
              "               '2020-03-01 00:00:16', '2020-03-01 00:00:17',\n",
              "               '2020-03-01 00:00:18', '2020-03-01 00:00:19',\n",
              "               '2020-03-01 00:00:20', '2020-03-01 00:00:21',\n",
              "               '2020-03-01 00:00:22', '2020-03-01 00:00:23',\n",
              "               '2020-03-01 00:00:24', '2020-03-01 00:00:25',\n",
              "               '2020-03-01 00:00:26', '2020-03-01 00:00:27',\n",
              "               '2020-03-01 00:00:28', '2020-03-01 00:00:29',\n",
              "               '2020-03-01 00:00:30', '2020-03-01 00:00:31',\n",
              "               '2020-03-01 00:00:32', '2020-03-01 00:00:33',\n",
              "               '2020-03-01 00:00:34', '2020-03-01 00:00:35',\n",
              "               '2020-03-01 00:00:36', '2020-03-01 00:00:37',\n",
              "               '2020-03-01 00:00:38', '2020-03-01 00:00:39',\n",
              "               '2020-03-01 00:00:40', '2020-03-01 00:00:41',\n",
              "               '2020-03-01 00:00:42', '2020-03-01 00:00:43',\n",
              "               '2020-03-01 00:00:44', '2020-03-01 00:00:45',\n",
              "               '2020-03-01 00:00:46', '2020-03-01 00:00:47',\n",
              "               '2020-03-01 00:00:48', '2020-03-01 00:00:49',\n",
              "               '2020-03-01 00:00:50', '2020-03-01 00:00:51',\n",
              "               '2020-03-01 00:00:52', '2020-03-01 00:00:53',\n",
              "               '2020-03-01 00:00:54', '2020-03-01 00:00:55',\n",
              "               '2020-03-01 00:00:56', '2020-03-01 00:00:57',\n",
              "               '2020-03-01 00:00:58', '2020-03-01 00:00:59',\n",
              "               '2020-03-01 00:01:00', '2020-03-01 00:01:01',\n",
              "               '2020-03-01 00:01:02', '2020-03-01 00:01:03',\n",
              "               '2020-03-01 00:01:04', '2020-03-01 00:01:05',\n",
              "               '2020-03-01 00:01:06', '2020-03-01 00:01:07',\n",
              "               '2020-03-01 00:01:08', '2020-03-01 00:01:09',\n",
              "               '2020-03-01 00:01:10', '2020-03-01 00:01:11',\n",
              "               '2020-03-01 00:01:12', '2020-03-01 00:01:13',\n",
              "               '2020-03-01 00:01:14', '2020-03-01 00:01:15',\n",
              "               '2020-03-01 00:01:16', '2020-03-01 00:01:17',\n",
              "               '2020-03-01 00:01:18', '2020-03-01 00:01:19',\n",
              "               '2020-03-01 00:01:20', '2020-03-01 00:01:21',\n",
              "               '2020-03-01 00:01:22', '2020-03-01 00:01:23',\n",
              "               '2020-03-01 00:01:24', '2020-03-01 00:01:25',\n",
              "               '2020-03-01 00:01:26', '2020-03-01 00:01:27',\n",
              "               '2020-03-01 00:01:28', '2020-03-01 00:01:29',\n",
              "               '2020-03-01 00:01:30', '2020-03-01 00:01:31',\n",
              "               '2020-03-01 00:01:32', '2020-03-01 00:01:33',\n",
              "               '2020-03-01 00:01:34', '2020-03-01 00:01:35',\n",
              "               '2020-03-01 00:01:36', '2020-03-01 00:01:37',\n",
              "               '2020-03-01 00:01:38', '2020-03-01 00:01:39'],\n",
              "              dtype='datetime64[ns]', freq='S')"
            ]
          },
          "metadata": {
            "tags": []
          },
          "execution_count": 248
        }
      ]
    },
    {
      "cell_type": "code",
      "metadata": {
        "id": "Ny9bmXvKVeLr"
      },
      "source": [
        "import matplotlib.pyplot as  plt"
      ],
      "execution_count": 249,
      "outputs": []
    },
    {
      "cell_type": "code",
      "metadata": {
        "id": "VOM3LL_ohdaD"
      },
      "source": [
        "plt.close('all')"
      ],
      "execution_count": 250,
      "outputs": []
    },
    {
      "cell_type": "code",
      "metadata": {
        "id": "stj3WhKBhm5X"
      },
      "source": [
        "ts = pd.Series(np.random.randn(200), index = pd.date_range('1/2/2020', periods=200))"
      ],
      "execution_count": 251,
      "outputs": []
    },
    {
      "cell_type": "code",
      "metadata": {
        "id": "U4OeA-P-ihZo"
      },
      "source": [
        "ts = ts.cumsum()"
      ],
      "execution_count": 252,
      "outputs": []
    },
    {
      "cell_type": "code",
      "metadata": {
        "id": "hqX61FnTipkn",
        "outputId": "a2c6df45-667b-4366-d74b-b34bbe109bfa",
        "colab": {
          "base_uri": "https://localhost:8080/",
          "height": 295
        }
      },
      "source": [
        "ts.plot()"
      ],
      "execution_count": 254,
      "outputs": [
        {
          "output_type": "execute_result",
          "data": {
            "text/plain": [
              "<matplotlib.axes._subplots.AxesSubplot at 0x7faaf18df4a8>"
            ]
          },
          "metadata": {
            "tags": []
          },
          "execution_count": 254
        },
        {
          "output_type": "display_data",
          "data": {
            "image/png": "[encoded data removed]",
            "text/plain": [
              "<Figure size 432x288 with 1 Axes>"
            ]
          },
          "metadata": {
            "tags": [],
            "needs_background": "light"
          }
        }
      ]
    }
  ]
}